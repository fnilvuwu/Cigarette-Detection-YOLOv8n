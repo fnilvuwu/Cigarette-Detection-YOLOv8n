{
 "cells": [
  {
   "cell_type": "code",
   "execution_count": 1,
   "id": "3e0b35aa",
   "metadata": {},
   "outputs": [
    {
     "name": "stdout",
     "output_type": "stream",
     "text": [
      "Downloading https://github.com/ultralytics/assets/releases/download/v8.3.0/yolov8n.pt to 'yolov8n.pt'...\n"
     ]
    },
    {
     "name": "stderr",
     "output_type": "stream",
     "text": [
      "100%|██████████| 6.25M/6.25M [00:01<00:00, 5.12MB/s]\n"
     ]
    },
    {
     "name": "stdout",
     "output_type": "stream",
     "text": [
      "New https://pypi.org/project/ultralytics/8.3.126 available  Update with 'pip install -U ultralytics'\n",
      "Ultralytics 8.3.62  Python-3.11.11 torch-2.5.1 CUDA:0 (NVIDIA GeForce GTX 950M, 4096MiB)\n",
      "\u001b[34m\u001b[1mengine\\trainer: \u001b[0mtask=detect, mode=train, model=yolov8n.pt, data=C:/Users/mamat/Documents/Penelitian Vito/CigDet-YOLO/data.yaml, epochs=50, time=None, patience=100, batch=16, imgsz=250, save=True, save_period=-1, cache=False, device=None, workers=8, project=None, name=train, exist_ok=False, pretrained=True, optimizer=auto, verbose=True, seed=0, deterministic=True, single_cls=False, rect=False, cos_lr=False, close_mosaic=10, resume=False, amp=True, fraction=1.0, profile=False, freeze=None, multi_scale=False, overlap_mask=True, mask_ratio=4, dropout=0.0, val=True, split=val, save_json=False, save_hybrid=False, conf=None, iou=0.7, max_det=300, half=False, dnn=False, plots=True, source=None, vid_stride=1, stream_buffer=False, visualize=False, augment=False, agnostic_nms=False, classes=None, retina_masks=False, embed=None, show=False, save_frames=False, save_txt=False, save_conf=False, save_crop=False, show_labels=True, show_conf=True, show_boxes=True, line_width=None, format=torchscript, keras=False, optimize=False, int8=False, dynamic=False, simplify=True, opset=None, workspace=None, nms=False, lr0=0.01, lrf=0.01, momentum=0.937, weight_decay=0.0005, warmup_epochs=3.0, warmup_momentum=0.8, warmup_bias_lr=0.1, box=7.5, cls=0.5, dfl=1.5, pose=12.0, kobj=1.0, nbs=64, hsv_h=0.015, hsv_s=0.7, hsv_v=0.4, degrees=0.0, translate=0.1, scale=0.5, shear=0.0, perspective=0.0, flipud=0.0, fliplr=0.5, bgr=0.0, mosaic=1.0, mixup=0.0, copy_paste=0.0, copy_paste_mode=flip, auto_augment=randaugment, erasing=0.4, crop_fraction=1.0, cfg=None, tracker=botsort.yaml, save_dir=runs\\detect\\train\n",
      "Overriding model.yaml nc=80 with nc=1\n",
      "\n",
      "                   from  n    params  module                                       arguments                     \n",
      "  0                  -1  1       464  ultralytics.nn.modules.conv.Conv             [3, 16, 3, 2]                 \n",
      "  1                  -1  1      4672  ultralytics.nn.modules.conv.Conv             [16, 32, 3, 2]                \n",
      "  2                  -1  1      7360  ultralytics.nn.modules.block.C2f             [32, 32, 1, True]             \n",
      "  3                  -1  1     18560  ultralytics.nn.modules.conv.Conv             [32, 64, 3, 2]                \n",
      "  4                  -1  2     49664  ultralytics.nn.modules.block.C2f             [64, 64, 2, True]             \n",
      "  5                  -1  1     73984  ultralytics.nn.modules.conv.Conv             [64, 128, 3, 2]               \n",
      "  6                  -1  2    197632  ultralytics.nn.modules.block.C2f             [128, 128, 2, True]           \n",
      "  7                  -1  1    295424  ultralytics.nn.modules.conv.Conv             [128, 256, 3, 2]              \n",
      "  8                  -1  1    460288  ultralytics.nn.modules.block.C2f             [256, 256, 1, True]           \n",
      "  9                  -1  1    164608  ultralytics.nn.modules.block.SPPF            [256, 256, 5]                 \n",
      " 10                  -1  1         0  torch.nn.modules.upsampling.Upsample         [None, 2, 'nearest']          \n",
      " 11             [-1, 6]  1         0  ultralytics.nn.modules.conv.Concat           [1]                           \n",
      " 12                  -1  1    148224  ultralytics.nn.modules.block.C2f             [384, 128, 1]                 \n",
      " 13                  -1  1         0  torch.nn.modules.upsampling.Upsample         [None, 2, 'nearest']          \n",
      " 14             [-1, 4]  1         0  ultralytics.nn.modules.conv.Concat           [1]                           \n",
      " 15                  -1  1     37248  ultralytics.nn.modules.block.C2f             [192, 64, 1]                  \n",
      " 16                  -1  1     36992  ultralytics.nn.modules.conv.Conv             [64, 64, 3, 2]                \n",
      " 17            [-1, 12]  1         0  ultralytics.nn.modules.conv.Concat           [1]                           \n",
      " 18                  -1  1    123648  ultralytics.nn.modules.block.C2f             [192, 128, 1]                 \n",
      " 19                  -1  1    147712  ultralytics.nn.modules.conv.Conv             [128, 128, 3, 2]              \n",
      " 20             [-1, 9]  1         0  ultralytics.nn.modules.conv.Concat           [1]                           \n",
      " 21                  -1  1    493056  ultralytics.nn.modules.block.C2f             [384, 256, 1]                 \n",
      " 22        [15, 18, 21]  1    751507  ultralytics.nn.modules.head.Detect           [1, [64, 128, 256]]           \n",
      "Model summary: 225 layers, 3,011,043 parameters, 3,011,027 gradients, 8.2 GFLOPs\n",
      "\n",
      "Transferred 319/355 items from pretrained weights\n",
      "\u001b[34m\u001b[1mTensorBoard: \u001b[0mStart with 'tensorboard --logdir runs\\detect\\train', view at http://localhost:6006/\n",
      "Freezing layer 'model.22.dfl.conv.weight'\n",
      "\u001b[34m\u001b[1mAMP: \u001b[0mrunning Automatic Mixed Precision (AMP) checks...\n",
      "Downloading https://github.com/ultralytics/assets/releases/download/v8.3.0/yolo11n.pt to 'yolo11n.pt'...\n"
     ]
    },
    {
     "name": "stderr",
     "output_type": "stream",
     "text": [
      "100%|██████████| 5.35M/5.35M [00:02<00:00, 2.42MB/s]\n"
     ]
    },
    {
     "name": "stdout",
     "output_type": "stream",
     "text": [
      "\u001b[34m\u001b[1mAMP: \u001b[0mchecks passed \n",
      "WARNING  imgsz=[250] must be multiple of max stride 32, updating to [256]\n"
     ]
    },
    {
     "name": "stderr",
     "output_type": "stream",
     "text": [
      "\u001b[34m\u001b[1mtrain: \u001b[0mScanning C:\\Users\\mamat\\Documents\\Penelitian Vito\\CigDet-YOLO\\labels\\train... 446 images, 0 backgrounds, 0 corrupt: 100%|██████████| 446/446 [00:02<00:00, 195.17it/s]\n"
     ]
    },
    {
     "name": "stdout",
     "output_type": "stream",
     "text": [
      "\u001b[34m\u001b[1mtrain: \u001b[0mNew cache created: C:\\Users\\mamat\\Documents\\Penelitian Vito\\CigDet-YOLO\\labels\\train.cache\n"
     ]
    },
    {
     "name": "stderr",
     "output_type": "stream",
     "text": [
      "\u001b[34m\u001b[1mval: \u001b[0mScanning C:\\Users\\mamat\\Documents\\Penelitian Vito\\CigDet-YOLO\\labels\\val... 111 images, 0 backgrounds, 0 corrupt: 100%|██████████| 111/111 [00:00<00:00, 208.62it/s]\n"
     ]
    },
    {
     "name": "stdout",
     "output_type": "stream",
     "text": [
      "\u001b[34m\u001b[1mval: \u001b[0mNew cache created: C:\\Users\\mamat\\Documents\\Penelitian Vito\\CigDet-YOLO\\labels\\val.cache\n",
      "Plotting labels to runs\\detect\\train\\labels.jpg... \n",
      "\u001b[34m\u001b[1moptimizer:\u001b[0m 'optimizer=auto' found, ignoring 'lr0=0.01' and 'momentum=0.937' and determining best 'optimizer', 'lr0' and 'momentum' automatically... \n",
      "\u001b[34m\u001b[1moptimizer:\u001b[0m AdamW(lr=0.002, momentum=0.9) with parameter groups 57 weight(decay=0.0), 64 weight(decay=0.0005), 63 bias(decay=0.0)\n",
      "\u001b[34m\u001b[1mTensorBoard: \u001b[0mmodel graph visualization added \n",
      "Image sizes 256 train, 256 val\n",
      "Using 8 dataloader workers\n",
      "Logging results to \u001b[1mruns\\detect\\train\u001b[0m\n",
      "Starting training for 50 epochs...\n",
      "\n",
      "      Epoch    GPU_mem   box_loss   cls_loss   dfl_loss  Instances       Size\n"
     ]
    },
    {
     "name": "stderr",
     "output_type": "stream",
     "text": [
      "       1/50     0.728G      2.892      3.438      1.864         24        256: 100%|██████████| 28/28 [00:18<00:00,  1.55it/s]\n",
      "                 Class     Images  Instances      Box(P          R      mAP50  mAP50-95): 100%|██████████| 4/4 [00:01<00:00,  2.47it/s]"
     ]
    },
    {
     "name": "stdout",
     "output_type": "stream",
     "text": [
      "                   all        111        111    0.00458      0.883     0.0189     0.0063\n"
     ]
    },
    {
     "name": "stderr",
     "output_type": "stream",
     "text": [
      "\n"
     ]
    },
    {
     "name": "stdout",
     "output_type": "stream",
     "text": [
      "\n",
      "      Epoch    GPU_mem   box_loss   cls_loss   dfl_loss  Instances       Size\n"
     ]
    },
    {
     "name": "stderr",
     "output_type": "stream",
     "text": [
      "       2/50     0.696G       2.61      2.661      1.638         26        256: 100%|██████████| 28/28 [00:09<00:00,  3.00it/s]\n",
      "                 Class     Images  Instances      Box(P          R      mAP50  mAP50-95): 100%|██████████| 4/4 [00:01<00:00,  3.01it/s]"
     ]
    },
    {
     "name": "stdout",
     "output_type": "stream",
     "text": [
      "                   all        111        111      0.847     0.0996       0.29      0.108\n"
     ]
    },
    {
     "name": "stderr",
     "output_type": "stream",
     "text": [
      "\n"
     ]
    },
    {
     "name": "stdout",
     "output_type": "stream",
     "text": [
      "\n",
      "      Epoch    GPU_mem   box_loss   cls_loss   dfl_loss  Instances       Size\n"
     ]
    },
    {
     "name": "stderr",
     "output_type": "stream",
     "text": [
      "       3/50     0.696G      2.525      2.388      1.681         24        256: 100%|██████████| 28/28 [00:09<00:00,  3.07it/s]\n",
      "                 Class     Images  Instances      Box(P          R      mAP50  mAP50-95): 100%|██████████| 4/4 [00:01<00:00,  3.00it/s]"
     ]
    },
    {
     "name": "stdout",
     "output_type": "stream",
     "text": [
      "                   all        111        111      0.411      0.135      0.151      0.049\n"
     ]
    },
    {
     "name": "stderr",
     "output_type": "stream",
     "text": [
      "\n"
     ]
    },
    {
     "name": "stdout",
     "output_type": "stream",
     "text": [
      "\n",
      "      Epoch    GPU_mem   box_loss   cls_loss   dfl_loss  Instances       Size\n"
     ]
    },
    {
     "name": "stderr",
     "output_type": "stream",
     "text": [
      "       4/50     0.694G      2.476      2.283       1.66         21        256: 100%|██████████| 28/28 [00:09<00:00,  3.10it/s]\n",
      "                 Class     Images  Instances      Box(P          R      mAP50  mAP50-95): 100%|██████████| 4/4 [00:01<00:00,  2.96it/s]"
     ]
    },
    {
     "name": "stdout",
     "output_type": "stream",
     "text": [
      "                   all        111        111      0.248      0.189      0.136     0.0395\n"
     ]
    },
    {
     "name": "stderr",
     "output_type": "stream",
     "text": [
      "\n"
     ]
    },
    {
     "name": "stdout",
     "output_type": "stream",
     "text": [
      "\n",
      "      Epoch    GPU_mem   box_loss   cls_loss   dfl_loss  Instances       Size\n"
     ]
    },
    {
     "name": "stderr",
     "output_type": "stream",
     "text": [
      "       5/50     0.696G      2.402      2.124      1.613         24        256: 100%|██████████| 28/28 [00:08<00:00,  3.11it/s]\n",
      "                 Class     Images  Instances      Box(P          R      mAP50  mAP50-95): 100%|██████████| 4/4 [00:01<00:00,  3.17it/s]"
     ]
    },
    {
     "name": "stdout",
     "output_type": "stream",
     "text": [
      "                   all        111        111      0.218      0.297      0.144     0.0427\n"
     ]
    },
    {
     "name": "stderr",
     "output_type": "stream",
     "text": [
      "\n"
     ]
    },
    {
     "name": "stdout",
     "output_type": "stream",
     "text": [
      "\n",
      "      Epoch    GPU_mem   box_loss   cls_loss   dfl_loss  Instances       Size\n"
     ]
    },
    {
     "name": "stderr",
     "output_type": "stream",
     "text": [
      "       6/50     0.696G      2.432      2.199      1.667         24        256: 100%|██████████| 28/28 [00:08<00:00,  3.16it/s]\n",
      "                 Class     Images  Instances      Box(P          R      mAP50  mAP50-95): 100%|██████████| 4/4 [00:01<00:00,  3.11it/s]"
     ]
    },
    {
     "name": "stdout",
     "output_type": "stream",
     "text": [
      "                   all        111        111      0.185      0.342      0.132     0.0521\n"
     ]
    },
    {
     "name": "stderr",
     "output_type": "stream",
     "text": [
      "\n"
     ]
    },
    {
     "name": "stdout",
     "output_type": "stream",
     "text": [
      "\n",
      "      Epoch    GPU_mem   box_loss   cls_loss   dfl_loss  Instances       Size\n"
     ]
    },
    {
     "name": "stderr",
     "output_type": "stream",
     "text": [
      "       7/50     0.694G      2.314      1.978      1.599         18        256: 100%|██████████| 28/28 [00:08<00:00,  3.12it/s]\n",
      "                 Class     Images  Instances      Box(P          R      mAP50  mAP50-95): 100%|██████████| 4/4 [00:01<00:00,  2.96it/s]"
     ]
    },
    {
     "name": "stdout",
     "output_type": "stream",
     "text": [
      "                   all        111        111      0.659      0.453      0.504      0.193\n"
     ]
    },
    {
     "name": "stderr",
     "output_type": "stream",
     "text": [
      "\n"
     ]
    },
    {
     "name": "stdout",
     "output_type": "stream",
     "text": [
      "\n",
      "      Epoch    GPU_mem   box_loss   cls_loss   dfl_loss  Instances       Size\n"
     ]
    },
    {
     "name": "stderr",
     "output_type": "stream",
     "text": [
      "       8/50     0.694G      2.383      2.009      1.596         18        256: 100%|██████████| 28/28 [00:08<00:00,  3.13it/s]\n",
      "                 Class     Images  Instances      Box(P          R      mAP50  mAP50-95): 100%|██████████| 4/4 [00:01<00:00,  3.16it/s]"
     ]
    },
    {
     "name": "stdout",
     "output_type": "stream",
     "text": [
      "                   all        111        111      0.528      0.532      0.504      0.242\n"
     ]
    },
    {
     "name": "stderr",
     "output_type": "stream",
     "text": [
      "\n"
     ]
    },
    {
     "name": "stdout",
     "output_type": "stream",
     "text": [
      "\n",
      "      Epoch    GPU_mem   box_loss   cls_loss   dfl_loss  Instances       Size\n"
     ]
    },
    {
     "name": "stderr",
     "output_type": "stream",
     "text": [
      "       9/50     0.696G      2.398      1.965      1.616         28        256: 100%|██████████| 28/28 [00:09<00:00,  3.08it/s]\n",
      "                 Class     Images  Instances      Box(P          R      mAP50  mAP50-95): 100%|██████████| 4/4 [00:01<00:00,  2.97it/s]"
     ]
    },
    {
     "name": "stdout",
     "output_type": "stream",
     "text": [
      "                   all        111        111      0.494      0.514      0.487      0.223\n"
     ]
    },
    {
     "name": "stderr",
     "output_type": "stream",
     "text": [
      "\n"
     ]
    },
    {
     "name": "stdout",
     "output_type": "stream",
     "text": [
      "\n",
      "      Epoch    GPU_mem   box_loss   cls_loss   dfl_loss  Instances       Size\n"
     ]
    },
    {
     "name": "stderr",
     "output_type": "stream",
     "text": [
      "      10/50     0.694G      2.282      1.856      1.568         17        256: 100%|██████████| 28/28 [00:09<00:00,  3.06it/s]\n",
      "                 Class     Images  Instances      Box(P          R      mAP50  mAP50-95): 100%|██████████| 4/4 [00:01<00:00,  3.12it/s]"
     ]
    },
    {
     "name": "stdout",
     "output_type": "stream",
     "text": [
      "                   all        111        111      0.466       0.45      0.384      0.153\n"
     ]
    },
    {
     "name": "stderr",
     "output_type": "stream",
     "text": [
      "\n"
     ]
    },
    {
     "name": "stdout",
     "output_type": "stream",
     "text": [
      "\n",
      "      Epoch    GPU_mem   box_loss   cls_loss   dfl_loss  Instances       Size\n"
     ]
    },
    {
     "name": "stderr",
     "output_type": "stream",
     "text": [
      "      11/50     0.694G      2.146      1.756      1.478         24        256: 100%|██████████| 28/28 [00:09<00:00,  3.07it/s]\n",
      "                 Class     Images  Instances      Box(P          R      mAP50  mAP50-95): 100%|██████████| 4/4 [00:01<00:00,  2.93it/s]"
     ]
    },
    {
     "name": "stdout",
     "output_type": "stream",
     "text": [
      "                   all        111        111      0.695      0.486      0.553      0.211\n"
     ]
    },
    {
     "name": "stderr",
     "output_type": "stream",
     "text": [
      "\n"
     ]
    },
    {
     "name": "stdout",
     "output_type": "stream",
     "text": [
      "\n",
      "      Epoch    GPU_mem   box_loss   cls_loss   dfl_loss  Instances       Size\n"
     ]
    },
    {
     "name": "stderr",
     "output_type": "stream",
     "text": [
      "      12/50     0.694G       2.18      1.763      1.523         22        256: 100%|██████████| 28/28 [00:09<00:00,  3.07it/s]\n",
      "                 Class     Images  Instances      Box(P          R      mAP50  mAP50-95): 100%|██████████| 4/4 [00:01<00:00,  2.90it/s]"
     ]
    },
    {
     "name": "stdout",
     "output_type": "stream",
     "text": [
      "                   all        111        111        0.6      0.505      0.545      0.238\n"
     ]
    },
    {
     "name": "stderr",
     "output_type": "stream",
     "text": [
      "\n"
     ]
    },
    {
     "name": "stdout",
     "output_type": "stream",
     "text": [
      "\n",
      "      Epoch    GPU_mem   box_loss   cls_loss   dfl_loss  Instances       Size\n"
     ]
    },
    {
     "name": "stderr",
     "output_type": "stream",
     "text": [
      "      13/50     0.694G      2.142      1.715      1.522         18        256: 100%|██████████| 28/28 [00:08<00:00,  3.14it/s]\n",
      "                 Class     Images  Instances      Box(P          R      mAP50  mAP50-95): 100%|██████████| 4/4 [00:01<00:00,  2.92it/s]"
     ]
    },
    {
     "name": "stdout",
     "output_type": "stream",
     "text": [
      "                   all        111        111      0.661      0.586      0.641      0.266\n"
     ]
    },
    {
     "name": "stderr",
     "output_type": "stream",
     "text": [
      "\n"
     ]
    },
    {
     "name": "stdout",
     "output_type": "stream",
     "text": [
      "\n",
      "      Epoch    GPU_mem   box_loss   cls_loss   dfl_loss  Instances       Size\n"
     ]
    },
    {
     "name": "stderr",
     "output_type": "stream",
     "text": [
      "      14/50     0.694G      2.079      1.693      1.458         21        256: 100%|██████████| 28/28 [00:08<00:00,  3.17it/s]\n",
      "                 Class     Images  Instances      Box(P          R      mAP50  mAP50-95): 100%|██████████| 4/4 [00:01<00:00,  2.87it/s]"
     ]
    },
    {
     "name": "stdout",
     "output_type": "stream",
     "text": [
      "                   all        111        111      0.759       0.55      0.637      0.278\n"
     ]
    },
    {
     "name": "stderr",
     "output_type": "stream",
     "text": [
      "\n"
     ]
    },
    {
     "name": "stdout",
     "output_type": "stream",
     "text": [
      "\n",
      "      Epoch    GPU_mem   box_loss   cls_loss   dfl_loss  Instances       Size\n"
     ]
    },
    {
     "name": "stderr",
     "output_type": "stream",
     "text": [
      "      15/50     0.694G      2.086      1.573      1.443         25        256: 100%|██████████| 28/28 [00:08<00:00,  3.14it/s]\n",
      "                 Class     Images  Instances      Box(P          R      mAP50  mAP50-95): 100%|██████████| 4/4 [00:01<00:00,  2.82it/s]"
     ]
    },
    {
     "name": "stdout",
     "output_type": "stream",
     "text": [
      "                   all        111        111      0.683      0.631       0.68      0.312\n"
     ]
    },
    {
     "name": "stderr",
     "output_type": "stream",
     "text": [
      "\n"
     ]
    },
    {
     "name": "stdout",
     "output_type": "stream",
     "text": [
      "\n",
      "      Epoch    GPU_mem   box_loss   cls_loss   dfl_loss  Instances       Size\n"
     ]
    },
    {
     "name": "stderr",
     "output_type": "stream",
     "text": [
      "      16/50     0.694G      2.061      1.552       1.45         21        256: 100%|██████████| 28/28 [00:09<00:00,  3.00it/s]\n",
      "                 Class     Images  Instances      Box(P          R      mAP50  mAP50-95): 100%|██████████| 4/4 [00:01<00:00,  2.64it/s]"
     ]
    },
    {
     "name": "stdout",
     "output_type": "stream",
     "text": [
      "                   all        111        111       0.62      0.694      0.691      0.309\n"
     ]
    },
    {
     "name": "stderr",
     "output_type": "stream",
     "text": [
      "\n"
     ]
    },
    {
     "name": "stdout",
     "output_type": "stream",
     "text": [
      "\n",
      "      Epoch    GPU_mem   box_loss   cls_loss   dfl_loss  Instances       Size\n"
     ]
    },
    {
     "name": "stderr",
     "output_type": "stream",
     "text": [
      "      17/50     0.694G      2.036       1.51      1.435         17        256: 100%|██████████| 28/28 [00:09<00:00,  3.06it/s]\n",
      "                 Class     Images  Instances      Box(P          R      mAP50  mAP50-95): 100%|██████████| 4/4 [00:01<00:00,  3.03it/s]"
     ]
    },
    {
     "name": "stdout",
     "output_type": "stream",
     "text": [
      "                   all        111        111      0.743       0.73      0.703      0.312\n"
     ]
    },
    {
     "name": "stderr",
     "output_type": "stream",
     "text": [
      "\n"
     ]
    },
    {
     "name": "stdout",
     "output_type": "stream",
     "text": [
      "\n",
      "      Epoch    GPU_mem   box_loss   cls_loss   dfl_loss  Instances       Size\n"
     ]
    },
    {
     "name": "stderr",
     "output_type": "stream",
     "text": [
      "      18/50     0.694G      2.019        1.5      1.426         22        256: 100%|██████████| 28/28 [00:09<00:00,  3.06it/s]\n",
      "                 Class     Images  Instances      Box(P          R      mAP50  mAP50-95): 100%|██████████| 4/4 [00:01<00:00,  2.88it/s]"
     ]
    },
    {
     "name": "stdout",
     "output_type": "stream",
     "text": [
      "                   all        111        111      0.679       0.64      0.686      0.325\n"
     ]
    },
    {
     "name": "stderr",
     "output_type": "stream",
     "text": [
      "\n"
     ]
    },
    {
     "name": "stdout",
     "output_type": "stream",
     "text": [
      "\n",
      "      Epoch    GPU_mem   box_loss   cls_loss   dfl_loss  Instances       Size\n"
     ]
    },
    {
     "name": "stderr",
     "output_type": "stream",
     "text": [
      "      19/50     0.694G      1.969       1.48      1.429         18        256: 100%|██████████| 28/28 [00:09<00:00,  3.06it/s]\n",
      "                 Class     Images  Instances      Box(P          R      mAP50  mAP50-95): 100%|██████████| 4/4 [00:01<00:00,  2.83it/s]"
     ]
    },
    {
     "name": "stdout",
     "output_type": "stream",
     "text": [
      "                   all        111        111      0.745      0.694      0.711      0.354\n"
     ]
    },
    {
     "name": "stderr",
     "output_type": "stream",
     "text": [
      "\n"
     ]
    },
    {
     "name": "stdout",
     "output_type": "stream",
     "text": [
      "\n",
      "      Epoch    GPU_mem   box_loss   cls_loss   dfl_loss  Instances       Size\n"
     ]
    },
    {
     "name": "stderr",
     "output_type": "stream",
     "text": [
      "      20/50     0.694G       2.03      1.448      1.428         20        256: 100%|██████████| 28/28 [00:09<00:00,  2.98it/s]\n",
      "                 Class     Images  Instances      Box(P          R      mAP50  mAP50-95): 100%|██████████| 4/4 [00:01<00:00,  2.87it/s]"
     ]
    },
    {
     "name": "stdout",
     "output_type": "stream",
     "text": [
      "                   all        111        111      0.793      0.649      0.742      0.344\n"
     ]
    },
    {
     "name": "stderr",
     "output_type": "stream",
     "text": [
      "\n"
     ]
    },
    {
     "name": "stdout",
     "output_type": "stream",
     "text": [
      "\n",
      "      Epoch    GPU_mem   box_loss   cls_loss   dfl_loss  Instances       Size\n"
     ]
    },
    {
     "name": "stderr",
     "output_type": "stream",
     "text": [
      "      21/50     0.694G      2.005      1.392      1.405         28        256: 100%|██████████| 28/28 [00:09<00:00,  3.10it/s]\n",
      "                 Class     Images  Instances      Box(P          R      mAP50  mAP50-95): 100%|██████████| 4/4 [00:01<00:00,  2.18it/s]"
     ]
    },
    {
     "name": "stdout",
     "output_type": "stream",
     "text": [
      "                   all        111        111      0.788      0.668      0.727      0.352\n"
     ]
    },
    {
     "name": "stderr",
     "output_type": "stream",
     "text": [
      "\n"
     ]
    },
    {
     "name": "stdout",
     "output_type": "stream",
     "text": [
      "\n",
      "      Epoch    GPU_mem   box_loss   cls_loss   dfl_loss  Instances       Size\n"
     ]
    },
    {
     "name": "stderr",
     "output_type": "stream",
     "text": [
      "      22/50     0.694G      1.907      1.388      1.348         19        256: 100%|██████████| 28/28 [00:09<00:00,  3.06it/s]\n",
      "                 Class     Images  Instances      Box(P          R      mAP50  mAP50-95): 100%|██████████| 4/4 [00:01<00:00,  2.01it/s]"
     ]
    },
    {
     "name": "stdout",
     "output_type": "stream",
     "text": [
      "                   all        111        111      0.767      0.604      0.687      0.332\n"
     ]
    },
    {
     "name": "stderr",
     "output_type": "stream",
     "text": [
      "\n"
     ]
    },
    {
     "name": "stdout",
     "output_type": "stream",
     "text": [
      "\n",
      "      Epoch    GPU_mem   box_loss   cls_loss   dfl_loss  Instances       Size\n"
     ]
    },
    {
     "name": "stderr",
     "output_type": "stream",
     "text": [
      "      23/50     0.694G      1.914      1.373      1.387         21        256: 100%|██████████| 28/28 [00:09<00:00,  2.91it/s]\n",
      "                 Class     Images  Instances      Box(P          R      mAP50  mAP50-95): 100%|██████████| 4/4 [00:01<00:00,  2.79it/s]"
     ]
    },
    {
     "name": "stdout",
     "output_type": "stream",
     "text": [
      "                   all        111        111      0.878      0.647      0.764      0.333\n"
     ]
    },
    {
     "name": "stderr",
     "output_type": "stream",
     "text": [
      "\n"
     ]
    },
    {
     "name": "stdout",
     "output_type": "stream",
     "text": [
      "\n",
      "      Epoch    GPU_mem   box_loss   cls_loss   dfl_loss  Instances       Size\n"
     ]
    },
    {
     "name": "stderr",
     "output_type": "stream",
     "text": [
      "      24/50     0.694G      1.897      1.365      1.364         17        256: 100%|██████████| 28/28 [00:09<00:00,  3.00it/s]\n",
      "                 Class     Images  Instances      Box(P          R      mAP50  mAP50-95): 100%|██████████| 4/4 [00:01<00:00,  3.20it/s]"
     ]
    },
    {
     "name": "stdout",
     "output_type": "stream",
     "text": [
      "                   all        111        111      0.799      0.646      0.737      0.346\n"
     ]
    },
    {
     "name": "stderr",
     "output_type": "stream",
     "text": [
      "\n"
     ]
    },
    {
     "name": "stdout",
     "output_type": "stream",
     "text": [
      "\n",
      "      Epoch    GPU_mem   box_loss   cls_loss   dfl_loss  Instances       Size\n"
     ]
    },
    {
     "name": "stderr",
     "output_type": "stream",
     "text": [
      "      25/50     0.694G       1.92      1.373      1.372         20        256: 100%|██████████| 28/28 [00:08<00:00,  3.12it/s]\n",
      "                 Class     Images  Instances      Box(P          R      mAP50  mAP50-95): 100%|██████████| 4/4 [00:01<00:00,  2.98it/s]"
     ]
    },
    {
     "name": "stdout",
     "output_type": "stream",
     "text": [
      "                   all        111        111       0.91      0.685      0.764      0.349\n"
     ]
    },
    {
     "name": "stderr",
     "output_type": "stream",
     "text": [
      "\n"
     ]
    },
    {
     "name": "stdout",
     "output_type": "stream",
     "text": [
      "\n",
      "      Epoch    GPU_mem   box_loss   cls_loss   dfl_loss  Instances       Size\n"
     ]
    },
    {
     "name": "stderr",
     "output_type": "stream",
     "text": [
      "      26/50     0.694G      1.915       1.36      1.379         19        256: 100%|██████████| 28/28 [00:09<00:00,  3.03it/s]\n",
      "                 Class     Images  Instances      Box(P          R      mAP50  mAP50-95): 100%|██████████| 4/4 [00:01<00:00,  3.11it/s]"
     ]
    },
    {
     "name": "stdout",
     "output_type": "stream",
     "text": [
      "                   all        111        111      0.829      0.712      0.786      0.357\n"
     ]
    },
    {
     "name": "stderr",
     "output_type": "stream",
     "text": [
      "\n"
     ]
    },
    {
     "name": "stdout",
     "output_type": "stream",
     "text": [
      "\n",
      "      Epoch    GPU_mem   box_loss   cls_loss   dfl_loss  Instances       Size\n"
     ]
    },
    {
     "name": "stderr",
     "output_type": "stream",
     "text": [
      "      27/50     0.694G      1.847       1.25      1.324         17        256: 100%|██████████| 28/28 [00:09<00:00,  3.02it/s]\n",
      "                 Class     Images  Instances      Box(P          R      mAP50  mAP50-95): 100%|██████████| 4/4 [00:01<00:00,  3.06it/s]"
     ]
    },
    {
     "name": "stdout",
     "output_type": "stream",
     "text": [
      "                   all        111        111      0.836      0.667      0.767      0.347\n"
     ]
    },
    {
     "name": "stderr",
     "output_type": "stream",
     "text": [
      "\n"
     ]
    },
    {
     "name": "stdout",
     "output_type": "stream",
     "text": [
      "\n",
      "      Epoch    GPU_mem   box_loss   cls_loss   dfl_loss  Instances       Size\n"
     ]
    },
    {
     "name": "stderr",
     "output_type": "stream",
     "text": [
      "      28/50     0.694G      1.842      1.296      1.354         18        256: 100%|██████████| 28/28 [00:09<00:00,  3.01it/s]\n",
      "                 Class     Images  Instances      Box(P          R      mAP50  mAP50-95): 100%|██████████| 4/4 [00:01<00:00,  2.19it/s]"
     ]
    },
    {
     "name": "stdout",
     "output_type": "stream",
     "text": [
      "                   all        111        111      0.701      0.761      0.767      0.374\n"
     ]
    },
    {
     "name": "stderr",
     "output_type": "stream",
     "text": [
      "\n"
     ]
    },
    {
     "name": "stdout",
     "output_type": "stream",
     "text": [
      "\n",
      "      Epoch    GPU_mem   box_loss   cls_loss   dfl_loss  Instances       Size\n"
     ]
    },
    {
     "name": "stderr",
     "output_type": "stream",
     "text": [
      "      29/50     0.694G      1.897        1.3      1.382         21        256: 100%|██████████| 28/28 [00:09<00:00,  2.97it/s]\n",
      "                 Class     Images  Instances      Box(P          R      mAP50  mAP50-95): 100%|██████████| 4/4 [00:01<00:00,  3.01it/s]"
     ]
    },
    {
     "name": "stdout",
     "output_type": "stream",
     "text": [
      "                   all        111        111      0.742      0.701      0.748      0.309\n"
     ]
    },
    {
     "name": "stderr",
     "output_type": "stream",
     "text": [
      "\n"
     ]
    },
    {
     "name": "stdout",
     "output_type": "stream",
     "text": [
      "\n",
      "      Epoch    GPU_mem   box_loss   cls_loss   dfl_loss  Instances       Size\n"
     ]
    },
    {
     "name": "stderr",
     "output_type": "stream",
     "text": [
      "      30/50     0.694G      1.889      1.298       1.34         25        256: 100%|██████████| 28/28 [00:09<00:00,  3.07it/s]\n",
      "                 Class     Images  Instances      Box(P          R      mAP50  mAP50-95): 100%|██████████| 4/4 [00:01<00:00,  3.00it/s]"
     ]
    },
    {
     "name": "stdout",
     "output_type": "stream",
     "text": [
      "                   all        111        111      0.754      0.658      0.725      0.337\n"
     ]
    },
    {
     "name": "stderr",
     "output_type": "stream",
     "text": [
      "\n"
     ]
    },
    {
     "name": "stdout",
     "output_type": "stream",
     "text": [
      "\n",
      "      Epoch    GPU_mem   box_loss   cls_loss   dfl_loss  Instances       Size\n"
     ]
    },
    {
     "name": "stderr",
     "output_type": "stream",
     "text": [
      "      31/50     0.694G      1.796      1.248      1.317         22        256: 100%|██████████| 28/28 [00:09<00:00,  3.00it/s]\n",
      "                 Class     Images  Instances      Box(P          R      mAP50  mAP50-95): 100%|██████████| 4/4 [00:01<00:00,  3.01it/s]"
     ]
    },
    {
     "name": "stdout",
     "output_type": "stream",
     "text": [
      "                   all        111        111      0.862      0.678      0.803      0.394\n"
     ]
    },
    {
     "name": "stderr",
     "output_type": "stream",
     "text": [
      "\n"
     ]
    },
    {
     "name": "stdout",
     "output_type": "stream",
     "text": [
      "\n",
      "      Epoch    GPU_mem   box_loss   cls_loss   dfl_loss  Instances       Size\n"
     ]
    },
    {
     "name": "stderr",
     "output_type": "stream",
     "text": [
      "      32/50     0.694G      1.757      1.222        1.3         27        256: 100%|██████████| 28/28 [00:09<00:00,  3.04it/s]\n",
      "                 Class     Images  Instances      Box(P          R      mAP50  mAP50-95): 100%|██████████| 4/4 [00:01<00:00,  2.80it/s]"
     ]
    },
    {
     "name": "stdout",
     "output_type": "stream",
     "text": [
      "                   all        111        111      0.823      0.753      0.795      0.376\n"
     ]
    },
    {
     "name": "stderr",
     "output_type": "stream",
     "text": [
      "\n"
     ]
    },
    {
     "name": "stdout",
     "output_type": "stream",
     "text": [
      "\n",
      "      Epoch    GPU_mem   box_loss   cls_loss   dfl_loss  Instances       Size\n"
     ]
    },
    {
     "name": "stderr",
     "output_type": "stream",
     "text": [
      "      33/50     0.694G      1.783      1.209      1.338         23        256: 100%|██████████| 28/28 [00:09<00:00,  3.09it/s]\n",
      "                 Class     Images  Instances      Box(P          R      mAP50  mAP50-95): 100%|██████████| 4/4 [00:01<00:00,  3.13it/s]"
     ]
    },
    {
     "name": "stdout",
     "output_type": "stream",
     "text": [
      "                   all        111        111      0.849      0.708      0.813      0.399\n"
     ]
    },
    {
     "name": "stderr",
     "output_type": "stream",
     "text": [
      "\n"
     ]
    },
    {
     "name": "stdout",
     "output_type": "stream",
     "text": [
      "\n",
      "      Epoch    GPU_mem   box_loss   cls_loss   dfl_loss  Instances       Size\n"
     ]
    },
    {
     "name": "stderr",
     "output_type": "stream",
     "text": [
      "      34/50     0.694G      1.757      1.226      1.319         26        256: 100%|██████████| 28/28 [00:09<00:00,  3.06it/s]\n",
      "                 Class     Images  Instances      Box(P          R      mAP50  mAP50-95): 100%|██████████| 4/4 [00:01<00:00,  2.85it/s]"
     ]
    },
    {
     "name": "stdout",
     "output_type": "stream",
     "text": [
      "                   all        111        111      0.856      0.721      0.798      0.421\n"
     ]
    },
    {
     "name": "stderr",
     "output_type": "stream",
     "text": [
      "\n"
     ]
    },
    {
     "name": "stdout",
     "output_type": "stream",
     "text": [
      "\n",
      "      Epoch    GPU_mem   box_loss   cls_loss   dfl_loss  Instances       Size\n"
     ]
    },
    {
     "name": "stderr",
     "output_type": "stream",
     "text": [
      "      35/50     0.694G      1.729      1.188      1.291         21        256: 100%|██████████| 28/28 [00:08<00:00,  3.13it/s]\n",
      "                 Class     Images  Instances      Box(P          R      mAP50  mAP50-95): 100%|██████████| 4/4 [00:01<00:00,  3.02it/s]"
     ]
    },
    {
     "name": "stdout",
     "output_type": "stream",
     "text": [
      "                   all        111        111      0.794      0.676       0.75      0.328\n"
     ]
    },
    {
     "name": "stderr",
     "output_type": "stream",
     "text": [
      "\n"
     ]
    },
    {
     "name": "stdout",
     "output_type": "stream",
     "text": [
      "\n",
      "      Epoch    GPU_mem   box_loss   cls_loss   dfl_loss  Instances       Size\n"
     ]
    },
    {
     "name": "stderr",
     "output_type": "stream",
     "text": [
      "      36/50     0.694G      1.764      1.176      1.296         28        256: 100%|██████████| 28/28 [00:09<00:00,  3.10it/s]\n",
      "                 Class     Images  Instances      Box(P          R      mAP50  mAP50-95): 100%|██████████| 4/4 [00:01<00:00,  2.87it/s]"
     ]
    },
    {
     "name": "stdout",
     "output_type": "stream",
     "text": [
      "                   all        111        111      0.829      0.699      0.774      0.375\n"
     ]
    },
    {
     "name": "stderr",
     "output_type": "stream",
     "text": [
      "\n"
     ]
    },
    {
     "name": "stdout",
     "output_type": "stream",
     "text": [
      "\n",
      "      Epoch    GPU_mem   box_loss   cls_loss   dfl_loss  Instances       Size\n"
     ]
    },
    {
     "name": "stderr",
     "output_type": "stream",
     "text": [
      "      37/50     0.694G      1.775      1.225      1.297         27        256: 100%|██████████| 28/28 [00:09<00:00,  2.97it/s]\n",
      "                 Class     Images  Instances      Box(P          R      mAP50  mAP50-95): 100%|██████████| 4/4 [00:01<00:00,  2.35it/s]"
     ]
    },
    {
     "name": "stdout",
     "output_type": "stream",
     "text": [
      "                   all        111        111       0.85      0.766      0.814      0.398\n"
     ]
    },
    {
     "name": "stderr",
     "output_type": "stream",
     "text": [
      "\n"
     ]
    },
    {
     "name": "stdout",
     "output_type": "stream",
     "text": [
      "\n",
      "      Epoch    GPU_mem   box_loss   cls_loss   dfl_loss  Instances       Size\n"
     ]
    },
    {
     "name": "stderr",
     "output_type": "stream",
     "text": [
      "      38/50     0.694G      1.682      1.157      1.243         15        256: 100%|██████████| 28/28 [00:09<00:00,  2.99it/s]\n",
      "                 Class     Images  Instances      Box(P          R      mAP50  mAP50-95): 100%|██████████| 4/4 [00:01<00:00,  2.84it/s]"
     ]
    },
    {
     "name": "stdout",
     "output_type": "stream",
     "text": [
      "                   all        111        111       0.84      0.757      0.818      0.383\n"
     ]
    },
    {
     "name": "stderr",
     "output_type": "stream",
     "text": [
      "\n"
     ]
    },
    {
     "name": "stdout",
     "output_type": "stream",
     "text": [
      "\n",
      "      Epoch    GPU_mem   box_loss   cls_loss   dfl_loss  Instances       Size\n"
     ]
    },
    {
     "name": "stderr",
     "output_type": "stream",
     "text": [
      "      39/50     0.694G      1.642      1.097      1.255         13        256: 100%|██████████| 28/28 [00:09<00:00,  2.93it/s]\n",
      "                 Class     Images  Instances      Box(P          R      mAP50  mAP50-95): 100%|██████████| 4/4 [00:01<00:00,  2.60it/s]"
     ]
    },
    {
     "name": "stdout",
     "output_type": "stream",
     "text": [
      "                   all        111        111      0.894       0.76      0.843      0.414\n"
     ]
    },
    {
     "name": "stderr",
     "output_type": "stream",
     "text": [
      "\n"
     ]
    },
    {
     "name": "stdout",
     "output_type": "stream",
     "text": [
      "\n",
      "      Epoch    GPU_mem   box_loss   cls_loss   dfl_loss  Instances       Size\n"
     ]
    },
    {
     "name": "stderr",
     "output_type": "stream",
     "text": [
      "      40/50     0.694G      1.619       1.08       1.28         19        256: 100%|██████████| 28/28 [00:09<00:00,  2.87it/s]\n",
      "                 Class     Images  Instances      Box(P          R      mAP50  mAP50-95): 100%|██████████| 4/4 [00:01<00:00,  2.77it/s]"
     ]
    },
    {
     "name": "stdout",
     "output_type": "stream",
     "text": [
      "                   all        111        111      0.868      0.766      0.832      0.415\n"
     ]
    },
    {
     "name": "stderr",
     "output_type": "stream",
     "text": [
      "\n"
     ]
    },
    {
     "name": "stdout",
     "output_type": "stream",
     "text": [
      "Closing dataloader mosaic\n",
      "\n",
      "      Epoch    GPU_mem   box_loss   cls_loss   dfl_loss  Instances       Size\n"
     ]
    },
    {
     "name": "stderr",
     "output_type": "stream",
     "text": [
      "      41/50     0.692G      1.565      0.985      1.308         14        256: 100%|██████████| 28/28 [00:09<00:00,  2.94it/s]\n",
      "                 Class     Images  Instances      Box(P          R      mAP50  mAP50-95): 100%|██████████| 4/4 [00:01<00:00,  2.43it/s]"
     ]
    },
    {
     "name": "stdout",
     "output_type": "stream",
     "text": [
      "                   all        111        111      0.904      0.775      0.837       0.42\n"
     ]
    },
    {
     "name": "stderr",
     "output_type": "stream",
     "text": [
      "\n"
     ]
    },
    {
     "name": "stdout",
     "output_type": "stream",
     "text": [
      "\n",
      "      Epoch    GPU_mem   box_loss   cls_loss   dfl_loss  Instances       Size\n"
     ]
    },
    {
     "name": "stderr",
     "output_type": "stream",
     "text": [
      "      42/50     0.692G       1.54     0.9707      1.287         13        256: 100%|██████████| 28/28 [00:09<00:00,  3.02it/s]\n",
      "                 Class     Images  Instances      Box(P          R      mAP50  mAP50-95): 100%|██████████| 4/4 [00:01<00:00,  2.86it/s]"
     ]
    },
    {
     "name": "stdout",
     "output_type": "stream",
     "text": [
      "                   all        111        111      0.844      0.766      0.818      0.407\n"
     ]
    },
    {
     "name": "stderr",
     "output_type": "stream",
     "text": [
      "\n"
     ]
    },
    {
     "name": "stdout",
     "output_type": "stream",
     "text": [
      "\n",
      "      Epoch    GPU_mem   box_loss   cls_loss   dfl_loss  Instances       Size\n"
     ]
    },
    {
     "name": "stderr",
     "output_type": "stream",
     "text": [
      "      43/50     0.692G      1.516     0.9514      1.266         13        256: 100%|██████████| 28/28 [00:10<00:00,  2.79it/s]\n",
      "                 Class     Images  Instances      Box(P          R      mAP50  mAP50-95): 100%|██████████| 4/4 [00:01<00:00,  2.54it/s]"
     ]
    },
    {
     "name": "stdout",
     "output_type": "stream",
     "text": [
      "                   all        111        111      0.872      0.794      0.853      0.408\n"
     ]
    },
    {
     "name": "stderr",
     "output_type": "stream",
     "text": [
      "\n"
     ]
    },
    {
     "name": "stdout",
     "output_type": "stream",
     "text": [
      "\n",
      "      Epoch    GPU_mem   box_loss   cls_loss   dfl_loss  Instances       Size\n"
     ]
    },
    {
     "name": "stderr",
     "output_type": "stream",
     "text": [
      "      44/50     0.692G      1.496      0.914      1.244         13        256: 100%|██████████| 28/28 [00:09<00:00,  2.82it/s]\n",
      "                 Class     Images  Instances      Box(P          R      mAP50  mAP50-95): 100%|██████████| 4/4 [00:01<00:00,  2.08it/s]"
     ]
    },
    {
     "name": "stdout",
     "output_type": "stream",
     "text": [
      "                   all        111        111      0.886      0.766      0.836      0.411\n"
     ]
    },
    {
     "name": "stderr",
     "output_type": "stream",
     "text": [
      "\n"
     ]
    },
    {
     "name": "stdout",
     "output_type": "stream",
     "text": [
      "\n",
      "      Epoch    GPU_mem   box_loss   cls_loss   dfl_loss  Instances       Size\n"
     ]
    },
    {
     "name": "stderr",
     "output_type": "stream",
     "text": [
      "      45/50     0.692G      1.471     0.9155       1.24         12        256: 100%|██████████| 28/28 [00:09<00:00,  2.92it/s]\n",
      "                 Class     Images  Instances      Box(P          R      mAP50  mAP50-95): 100%|██████████| 4/4 [00:01<00:00,  2.48it/s]"
     ]
    },
    {
     "name": "stdout",
     "output_type": "stream",
     "text": [
      "                   all        111        111      0.907      0.766      0.851      0.411\n"
     ]
    },
    {
     "name": "stderr",
     "output_type": "stream",
     "text": [
      "\n"
     ]
    },
    {
     "name": "stdout",
     "output_type": "stream",
     "text": [
      "\n",
      "      Epoch    GPU_mem   box_loss   cls_loss   dfl_loss  Instances       Size\n"
     ]
    },
    {
     "name": "stderr",
     "output_type": "stream",
     "text": [
      "      46/50     0.692G       1.45     0.8941      1.223         14        256: 100%|██████████| 28/28 [00:09<00:00,  3.07it/s]\n",
      "                 Class     Images  Instances      Box(P          R      mAP50  mAP50-95): 100%|██████████| 4/4 [00:01<00:00,  2.72it/s]"
     ]
    },
    {
     "name": "stdout",
     "output_type": "stream",
     "text": [
      "                   all        111        111      0.854      0.789      0.829      0.407\n"
     ]
    },
    {
     "name": "stderr",
     "output_type": "stream",
     "text": [
      "\n"
     ]
    },
    {
     "name": "stdout",
     "output_type": "stream",
     "text": [
      "\n",
      "      Epoch    GPU_mem   box_loss   cls_loss   dfl_loss  Instances       Size\n"
     ]
    },
    {
     "name": "stderr",
     "output_type": "stream",
     "text": [
      "      47/50     0.692G      1.454     0.8973      1.221         12        256: 100%|██████████| 28/28 [00:09<00:00,  3.11it/s]\n",
      "                 Class     Images  Instances      Box(P          R      mAP50  mAP50-95): 100%|██████████| 4/4 [00:01<00:00,  3.14it/s]"
     ]
    },
    {
     "name": "stdout",
     "output_type": "stream",
     "text": [
      "                   all        111        111      0.876      0.766      0.828       0.42\n"
     ]
    },
    {
     "name": "stderr",
     "output_type": "stream",
     "text": [
      "\n"
     ]
    },
    {
     "name": "stdout",
     "output_type": "stream",
     "text": [
      "\n",
      "      Epoch    GPU_mem   box_loss   cls_loss   dfl_loss  Instances       Size\n"
     ]
    },
    {
     "name": "stderr",
     "output_type": "stream",
     "text": [
      "      48/50     0.692G      1.433     0.8469      1.213         14        256: 100%|██████████| 28/28 [00:09<00:00,  3.04it/s]\n",
      "                 Class     Images  Instances      Box(P          R      mAP50  mAP50-95): 100%|██████████| 4/4 [00:01<00:00,  3.23it/s]"
     ]
    },
    {
     "name": "stdout",
     "output_type": "stream",
     "text": [
      "                   all        111        111      0.832      0.793      0.827       0.43\n"
     ]
    },
    {
     "name": "stderr",
     "output_type": "stream",
     "text": [
      "\n"
     ]
    },
    {
     "name": "stdout",
     "output_type": "stream",
     "text": [
      "\n",
      "      Epoch    GPU_mem   box_loss   cls_loss   dfl_loss  Instances       Size\n"
     ]
    },
    {
     "name": "stderr",
     "output_type": "stream",
     "text": [
      "      49/50     0.692G      1.416     0.8656      1.207         14        256: 100%|██████████| 28/28 [00:08<00:00,  3.14it/s]\n",
      "                 Class     Images  Instances      Box(P          R      mAP50  mAP50-95): 100%|██████████| 4/4 [00:01<00:00,  3.05it/s]"
     ]
    },
    {
     "name": "stdout",
     "output_type": "stream",
     "text": [
      "                   all        111        111       0.87      0.783      0.832      0.422\n"
     ]
    },
    {
     "name": "stderr",
     "output_type": "stream",
     "text": [
      "\n"
     ]
    },
    {
     "name": "stdout",
     "output_type": "stream",
     "text": [
      "\n",
      "      Epoch    GPU_mem   box_loss   cls_loss   dfl_loss  Instances       Size\n"
     ]
    },
    {
     "name": "stderr",
     "output_type": "stream",
     "text": [
      "      50/50     0.692G      1.417     0.8633      1.205         14        256: 100%|██████████| 28/28 [00:09<00:00,  3.07it/s]\n",
      "                 Class     Images  Instances      Box(P          R      mAP50  mAP50-95): 100%|██████████| 4/4 [00:01<00:00,  2.68it/s]"
     ]
    },
    {
     "name": "stdout",
     "output_type": "stream",
     "text": [
      "                   all        111        111      0.891      0.766      0.842      0.418\n"
     ]
    },
    {
     "name": "stderr",
     "output_type": "stream",
     "text": [
      "\n"
     ]
    },
    {
     "name": "stdout",
     "output_type": "stream",
     "text": [
      "\n",
      "50 epochs completed in 0.202 hours.\n",
      "Optimizer stripped from runs\\detect\\train\\weights\\last.pt, 6.2MB\n",
      "Optimizer stripped from runs\\detect\\train\\weights\\best.pt, 6.2MB\n",
      "\n",
      "Validating runs\\detect\\train\\weights\\best.pt...\n",
      "Ultralytics 8.3.62  Python-3.11.11 torch-2.5.1 CUDA:0 (NVIDIA GeForce GTX 950M, 4096MiB)\n",
      "Model summary (fused): 168 layers, 3,005,843 parameters, 0 gradients, 8.1 GFLOPs\n"
     ]
    },
    {
     "name": "stderr",
     "output_type": "stream",
     "text": [
      "                 Class     Images  Instances      Box(P          R      mAP50  mAP50-95): 100%|██████████| 4/4 [00:01<00:00,  2.16it/s]\n"
     ]
    },
    {
     "name": "stdout",
     "output_type": "stream",
     "text": [
      "                   all        111        111      0.831      0.793      0.827      0.429\n",
      "Speed: 0.2ms preprocess, 5.0ms inference, 0.0ms loss, 3.1ms postprocess per image\n",
      "Results saved to \u001b[1mruns\\detect\\train\u001b[0m\n"
     ]
    },
    {
     "data": {
      "text/plain": [
       "ultralytics.utils.metrics.DetMetrics object with attributes:\n",
       "\n",
       "ap_class_index: array([0])\n",
       "box: ultralytics.utils.metrics.Metric object\n",
       "confusion_matrix: <ultralytics.utils.metrics.ConfusionMatrix object at 0x000001C1238192D0>\n",
       "curves: ['Precision-Recall(B)', 'F1-Confidence(B)', 'Precision-Confidence(B)', 'Recall-Confidence(B)']\n",
       "curves_results: [[array([          0,    0.001001,    0.002002,    0.003003,    0.004004,    0.005005,    0.006006,    0.007007,    0.008008,    0.009009,     0.01001,    0.011011,    0.012012,    0.013013,    0.014014,    0.015015,    0.016016,    0.017017,    0.018018,    0.019019,     0.02002,    0.021021,    0.022022,    0.023023,\n",
       "          0.024024,    0.025025,    0.026026,    0.027027,    0.028028,    0.029029,     0.03003,    0.031031,    0.032032,    0.033033,    0.034034,    0.035035,    0.036036,    0.037037,    0.038038,    0.039039,     0.04004,    0.041041,    0.042042,    0.043043,    0.044044,    0.045045,    0.046046,    0.047047,\n",
       "          0.048048,    0.049049,     0.05005,    0.051051,    0.052052,    0.053053,    0.054054,    0.055055,    0.056056,    0.057057,    0.058058,    0.059059,     0.06006,    0.061061,    0.062062,    0.063063,    0.064064,    0.065065,    0.066066,    0.067067,    0.068068,    0.069069,     0.07007,    0.071071,\n",
       "          0.072072,    0.073073,    0.074074,    0.075075,    0.076076,    0.077077,    0.078078,    0.079079,     0.08008,    0.081081,    0.082082,    0.083083,    0.084084,    0.085085,    0.086086,    0.087087,    0.088088,    0.089089,     0.09009,    0.091091,    0.092092,    0.093093,    0.094094,    0.095095,\n",
       "          0.096096,    0.097097,    0.098098,    0.099099,      0.1001,      0.1011,      0.1021,      0.1031,      0.1041,     0.10511,     0.10611,     0.10711,     0.10811,     0.10911,     0.11011,     0.11111,     0.11211,     0.11311,     0.11411,     0.11512,     0.11612,     0.11712,     0.11812,     0.11912,\n",
       "           0.12012,     0.12112,     0.12212,     0.12312,     0.12412,     0.12513,     0.12613,     0.12713,     0.12813,     0.12913,     0.13013,     0.13113,     0.13213,     0.13313,     0.13413,     0.13514,     0.13614,     0.13714,     0.13814,     0.13914,     0.14014,     0.14114,     0.14214,     0.14314,\n",
       "           0.14414,     0.14515,     0.14615,     0.14715,     0.14815,     0.14915,     0.15015,     0.15115,     0.15215,     0.15315,     0.15415,     0.15516,     0.15616,     0.15716,     0.15816,     0.15916,     0.16016,     0.16116,     0.16216,     0.16316,     0.16416,     0.16517,     0.16617,     0.16717,\n",
       "           0.16817,     0.16917,     0.17017,     0.17117,     0.17217,     0.17317,     0.17417,     0.17518,     0.17618,     0.17718,     0.17818,     0.17918,     0.18018,     0.18118,     0.18218,     0.18318,     0.18418,     0.18519,     0.18619,     0.18719,     0.18819,     0.18919,     0.19019,     0.19119,\n",
       "           0.19219,     0.19319,     0.19419,      0.1952,      0.1962,      0.1972,      0.1982,      0.1992,      0.2002,      0.2012,      0.2022,      0.2032,      0.2042,     0.20521,     0.20621,     0.20721,     0.20821,     0.20921,     0.21021,     0.21121,     0.21221,     0.21321,     0.21421,     0.21522,\n",
       "           0.21622,     0.21722,     0.21822,     0.21922,     0.22022,     0.22122,     0.22222,     0.22322,     0.22422,     0.22523,     0.22623,     0.22723,     0.22823,     0.22923,     0.23023,     0.23123,     0.23223,     0.23323,     0.23423,     0.23524,     0.23624,     0.23724,     0.23824,     0.23924,\n",
       "           0.24024,     0.24124,     0.24224,     0.24324,     0.24424,     0.24525,     0.24625,     0.24725,     0.24825,     0.24925,     0.25025,     0.25125,     0.25225,     0.25325,     0.25425,     0.25526,     0.25626,     0.25726,     0.25826,     0.25926,     0.26026,     0.26126,     0.26226,     0.26326,\n",
       "           0.26426,     0.26527,     0.26627,     0.26727,     0.26827,     0.26927,     0.27027,     0.27127,     0.27227,     0.27327,     0.27427,     0.27528,     0.27628,     0.27728,     0.27828,     0.27928,     0.28028,     0.28128,     0.28228,     0.28328,     0.28428,     0.28529,     0.28629,     0.28729,\n",
       "           0.28829,     0.28929,     0.29029,     0.29129,     0.29229,     0.29329,     0.29429,      0.2953,      0.2963,      0.2973,      0.2983,      0.2993,      0.3003,      0.3013,      0.3023,      0.3033,      0.3043,     0.30531,     0.30631,     0.30731,     0.30831,     0.30931,     0.31031,     0.31131,\n",
       "           0.31231,     0.31331,     0.31431,     0.31532,     0.31632,     0.31732,     0.31832,     0.31932,     0.32032,     0.32132,     0.32232,     0.32332,     0.32432,     0.32533,     0.32633,     0.32733,     0.32833,     0.32933,     0.33033,     0.33133,     0.33233,     0.33333,     0.33433,     0.33534,\n",
       "           0.33634,     0.33734,     0.33834,     0.33934,     0.34034,     0.34134,     0.34234,     0.34334,     0.34434,     0.34535,     0.34635,     0.34735,     0.34835,     0.34935,     0.35035,     0.35135,     0.35235,     0.35335,     0.35435,     0.35536,     0.35636,     0.35736,     0.35836,     0.35936,\n",
       "           0.36036,     0.36136,     0.36236,     0.36336,     0.36436,     0.36537,     0.36637,     0.36737,     0.36837,     0.36937,     0.37037,     0.37137,     0.37237,     0.37337,     0.37437,     0.37538,     0.37638,     0.37738,     0.37838,     0.37938,     0.38038,     0.38138,     0.38238,     0.38338,\n",
       "           0.38438,     0.38539,     0.38639,     0.38739,     0.38839,     0.38939,     0.39039,     0.39139,     0.39239,     0.39339,     0.39439,      0.3954,      0.3964,      0.3974,      0.3984,      0.3994,      0.4004,      0.4014,      0.4024,      0.4034,      0.4044,     0.40541,     0.40641,     0.40741,\n",
       "           0.40841,     0.40941,     0.41041,     0.41141,     0.41241,     0.41341,     0.41441,     0.41542,     0.41642,     0.41742,     0.41842,     0.41942,     0.42042,     0.42142,     0.42242,     0.42342,     0.42442,     0.42543,     0.42643,     0.42743,     0.42843,     0.42943,     0.43043,     0.43143,\n",
       "           0.43243,     0.43343,     0.43443,     0.43544,     0.43644,     0.43744,     0.43844,     0.43944,     0.44044,     0.44144,     0.44244,     0.44344,     0.44444,     0.44545,     0.44645,     0.44745,     0.44845,     0.44945,     0.45045,     0.45145,     0.45245,     0.45345,     0.45445,     0.45546,\n",
       "           0.45646,     0.45746,     0.45846,     0.45946,     0.46046,     0.46146,     0.46246,     0.46346,     0.46446,     0.46547,     0.46647,     0.46747,     0.46847,     0.46947,     0.47047,     0.47147,     0.47247,     0.47347,     0.47447,     0.47548,     0.47648,     0.47748,     0.47848,     0.47948,\n",
       "           0.48048,     0.48148,     0.48248,     0.48348,     0.48448,     0.48549,     0.48649,     0.48749,     0.48849,     0.48949,     0.49049,     0.49149,     0.49249,     0.49349,     0.49449,      0.4955,      0.4965,      0.4975,      0.4985,      0.4995,      0.5005,      0.5015,      0.5025,      0.5035,\n",
       "            0.5045,     0.50551,     0.50651,     0.50751,     0.50851,     0.50951,     0.51051,     0.51151,     0.51251,     0.51351,     0.51451,     0.51552,     0.51652,     0.51752,     0.51852,     0.51952,     0.52052,     0.52152,     0.52252,     0.52352,     0.52452,     0.52553,     0.52653,     0.52753,\n",
       "           0.52853,     0.52953,     0.53053,     0.53153,     0.53253,     0.53353,     0.53453,     0.53554,     0.53654,     0.53754,     0.53854,     0.53954,     0.54054,     0.54154,     0.54254,     0.54354,     0.54454,     0.54555,     0.54655,     0.54755,     0.54855,     0.54955,     0.55055,     0.55155,\n",
       "           0.55255,     0.55355,     0.55455,     0.55556,     0.55656,     0.55756,     0.55856,     0.55956,     0.56056,     0.56156,     0.56256,     0.56356,     0.56456,     0.56557,     0.56657,     0.56757,     0.56857,     0.56957,     0.57057,     0.57157,     0.57257,     0.57357,     0.57457,     0.57558,\n",
       "           0.57658,     0.57758,     0.57858,     0.57958,     0.58058,     0.58158,     0.58258,     0.58358,     0.58458,     0.58559,     0.58659,     0.58759,     0.58859,     0.58959,     0.59059,     0.59159,     0.59259,     0.59359,     0.59459,      0.5956,      0.5966,      0.5976,      0.5986,      0.5996,\n",
       "            0.6006,      0.6016,      0.6026,      0.6036,      0.6046,     0.60561,     0.60661,     0.60761,     0.60861,     0.60961,     0.61061,     0.61161,     0.61261,     0.61361,     0.61461,     0.61562,     0.61662,     0.61762,     0.61862,     0.61962,     0.62062,     0.62162,     0.62262,     0.62362,\n",
       "           0.62462,     0.62563,     0.62663,     0.62763,     0.62863,     0.62963,     0.63063,     0.63163,     0.63263,     0.63363,     0.63463,     0.63564,     0.63664,     0.63764,     0.63864,     0.63964,     0.64064,     0.64164,     0.64264,     0.64364,     0.64464,     0.64565,     0.64665,     0.64765,\n",
       "           0.64865,     0.64965,     0.65065,     0.65165,     0.65265,     0.65365,     0.65465,     0.65566,     0.65666,     0.65766,     0.65866,     0.65966,     0.66066,     0.66166,     0.66266,     0.66366,     0.66466,     0.66567,     0.66667,     0.66767,     0.66867,     0.66967,     0.67067,     0.67167,\n",
       "           0.67267,     0.67367,     0.67467,     0.67568,     0.67668,     0.67768,     0.67868,     0.67968,     0.68068,     0.68168,     0.68268,     0.68368,     0.68468,     0.68569,     0.68669,     0.68769,     0.68869,     0.68969,     0.69069,     0.69169,     0.69269,     0.69369,     0.69469,      0.6957,\n",
       "            0.6967,      0.6977,      0.6987,      0.6997,      0.7007,      0.7017,      0.7027,      0.7037,      0.7047,     0.70571,     0.70671,     0.70771,     0.70871,     0.70971,     0.71071,     0.71171,     0.71271,     0.71371,     0.71471,     0.71572,     0.71672,     0.71772,     0.71872,     0.71972,\n",
       "           0.72072,     0.72172,     0.72272,     0.72372,     0.72472,     0.72573,     0.72673,     0.72773,     0.72873,     0.72973,     0.73073,     0.73173,     0.73273,     0.73373,     0.73473,     0.73574,     0.73674,     0.73774,     0.73874,     0.73974,     0.74074,     0.74174,     0.74274,     0.74374,\n",
       "           0.74474,     0.74575,     0.74675,     0.74775,     0.74875,     0.74975,     0.75075,     0.75175,     0.75275,     0.75375,     0.75475,     0.75576,     0.75676,     0.75776,     0.75876,     0.75976,     0.76076,     0.76176,     0.76276,     0.76376,     0.76476,     0.76577,     0.76677,     0.76777,\n",
       "           0.76877,     0.76977,     0.77077,     0.77177,     0.77277,     0.77377,     0.77477,     0.77578,     0.77678,     0.77778,     0.77878,     0.77978,     0.78078,     0.78178,     0.78278,     0.78378,     0.78478,     0.78579,     0.78679,     0.78779,     0.78879,     0.78979,     0.79079,     0.79179,\n",
       "           0.79279,     0.79379,     0.79479,      0.7958,      0.7968,      0.7978,      0.7988,      0.7998,      0.8008,      0.8018,      0.8028,      0.8038,      0.8048,     0.80581,     0.80681,     0.80781,     0.80881,     0.80981,     0.81081,     0.81181,     0.81281,     0.81381,     0.81481,     0.81582,\n",
       "           0.81682,     0.81782,     0.81882,     0.81982,     0.82082,     0.82182,     0.82282,     0.82382,     0.82482,     0.82583,     0.82683,     0.82783,     0.82883,     0.82983,     0.83083,     0.83183,     0.83283,     0.83383,     0.83483,     0.83584,     0.83684,     0.83784,     0.83884,     0.83984,\n",
       "           0.84084,     0.84184,     0.84284,     0.84384,     0.84484,     0.84585,     0.84685,     0.84785,     0.84885,     0.84985,     0.85085,     0.85185,     0.85285,     0.85385,     0.85485,     0.85586,     0.85686,     0.85786,     0.85886,     0.85986,     0.86086,     0.86186,     0.86286,     0.86386,\n",
       "           0.86486,     0.86587,     0.86687,     0.86787,     0.86887,     0.86987,     0.87087,     0.87187,     0.87287,     0.87387,     0.87487,     0.87588,     0.87688,     0.87788,     0.87888,     0.87988,     0.88088,     0.88188,     0.88288,     0.88388,     0.88488,     0.88589,     0.88689,     0.88789,\n",
       "           0.88889,     0.88989,     0.89089,     0.89189,     0.89289,     0.89389,     0.89489,      0.8959,      0.8969,      0.8979,      0.8989,      0.8999,      0.9009,      0.9019,      0.9029,      0.9039,      0.9049,     0.90591,     0.90691,     0.90791,     0.90891,     0.90991,     0.91091,     0.91191,\n",
       "           0.91291,     0.91391,     0.91491,     0.91592,     0.91692,     0.91792,     0.91892,     0.91992,     0.92092,     0.92192,     0.92292,     0.92392,     0.92492,     0.92593,     0.92693,     0.92793,     0.92893,     0.92993,     0.93093,     0.93193,     0.93293,     0.93393,     0.93493,     0.93594,\n",
       "           0.93694,     0.93794,     0.93894,     0.93994,     0.94094,     0.94194,     0.94294,     0.94394,     0.94494,     0.94595,     0.94695,     0.94795,     0.94895,     0.94995,     0.95095,     0.95195,     0.95295,     0.95395,     0.95495,     0.95596,     0.95696,     0.95796,     0.95896,     0.95996,\n",
       "           0.96096,     0.96196,     0.96296,     0.96396,     0.96496,     0.96597,     0.96697,     0.96797,     0.96897,     0.96997,     0.97097,     0.97197,     0.97297,     0.97397,     0.97497,     0.97598,     0.97698,     0.97798,     0.97898,     0.97998,     0.98098,     0.98198,     0.98298,     0.98398,\n",
       "           0.98498,     0.98599,     0.98699,     0.98799,     0.98899,     0.98999,     0.99099,     0.99199,     0.99299,     0.99399,     0.99499,       0.996,       0.997,       0.998,       0.999,           1]), array([[          1,           1,           1,           1,           1,           1,           1,           1,           1,           1,           1,           1,           1,           1,           1,           1,           1,           1,           1,           1,           1,           1,           1,\n",
       "                  1,           1,           1,           1,           1,           1,           1,           1,           1,           1,           1,           1,           1,           1,           1,           1,           1,           1,           1,           1,           1,           1,           1,\n",
       "                  1,           1,           1,           1,           1,           1,           1,           1,           1,           1,           1,           1,           1,           1,           1,           1,           1,           1,           1,           1,           1,           1,           1,\n",
       "                  1,           1,           1,           1,           1,           1,           1,           1,           1,           1,           1,           1,           1,           1,           1,           1,           1,           1,           1,           1,           1,           1,           1,\n",
       "                  1,           1,           1,           1,           1,           1,           1,           1,           1,           1,           1,           1,           1,           1,           1,           1,           1,           1,           1,           1,           1,           1,           1,\n",
       "                  1,           1,           1,           1,           1,           1,           1,           1,           1,           1,           1,           1,           1,           1,           1,           1,           1,           1,           1,           1,           1,           1,           1,\n",
       "                  1,           1,           1,           1,           1,           1,           1,           1,           1,           1,           1,           1,           1,           1,           1,           1,           1,           1,           1,           1,           1,           1,           1,\n",
       "                  1,           1,           1,           1,           1,           1,           1,           1,           1,           1,           1,           1,           1,           1,           1,           1,           1,           1,           1,           1,           1,           1,           1,\n",
       "                  1,           1,           1,           1,           1,           1,           1,           1,           1,           1,           1,           1,           1,           1,           1,           1,           1,           1,           1,           1,           1,           1,           1,\n",
       "                  1,           1,           1,           1,           1,           1,           1,           1,           1,           1,           1,           1,           1,           1,           1,           1,           1,           1,           1,           1,           1,           1,           1,\n",
       "                  1,           1,           1,           1,           1,           1,           1,           1,           1,           1,           1,           1,           1,           1,           1,           1,           1,           1,           1,           1,           1,           1,           1,\n",
       "                  1,           1,           1,           1,           1,           1,           1,           1,           1,           1,           1,           1,           1,           1,           1,           1,           1,           1,           1,           1,           1,           1,           1,\n",
       "                  1,           1,           1,           1,           1,           1,           1,           1,           1,           1,           1,           1,           1,           1,           1,           1,           1,           1,           1,           1,           1,           1,           1,\n",
       "                  1,           1,           1,           1,           1,           1,           1,           1,           1,           1,           1,           1,           1,           1,           1,           1,     0.97826,     0.97826,     0.97826,     0.97826,     0.97826,     0.97826,     0.97826,\n",
       "            0.97826,     0.97826,     0.97826,     0.97826,     0.97826,     0.97826,     0.97826,     0.97826,     0.97826,     0.97826,     0.97826,     0.97826,     0.97826,     0.97826,     0.97826,     0.97826,     0.97826,     0.97826,     0.97826,     0.97826,     0.97826,     0.97826,     0.97826,\n",
       "            0.97826,     0.97826,     0.97826,     0.97826,     0.97826,     0.97826,     0.97826,     0.97826,     0.97826,     0.97826,     0.97826,     0.97826,     0.97826,     0.97826,     0.97826,     0.97826,     0.97826,     0.97826,     0.97826,     0.97826,     0.97826,     0.97826,     0.97826,\n",
       "            0.97826,     0.97826,     0.97826,     0.97826,     0.97826,     0.97826,     0.97826,     0.97826,     0.97826,     0.97826,     0.97826,     0.97826,     0.97826,     0.97826,     0.97826,     0.97826,     0.97826,     0.97826,     0.97826,     0.97826,     0.97826,     0.97826,     0.97826,\n",
       "            0.97826,     0.97826,     0.97826,     0.97826,     0.97826,     0.97826,     0.97826,     0.97826,     0.97826,     0.97826,     0.97826,     0.97826,     0.97826,     0.97826,     0.96491,     0.96491,     0.96491,     0.96491,     0.96491,     0.96491,     0.96491,     0.96491,     0.96491,\n",
       "            0.96491,     0.96491,     0.96491,     0.96491,     0.96491,     0.96491,     0.96491,     0.96491,     0.96491,     0.96491,     0.96491,     0.96491,     0.96491,     0.96491,     0.96491,     0.96491,     0.96491,     0.96491,     0.96491,     0.96491,     0.96491,     0.96491,     0.96491,\n",
       "            0.96491,     0.96491,     0.96491,     0.96491,     0.96491,     0.96491,     0.96491,     0.96491,     0.96491,     0.96491,     0.96491,     0.96491,     0.96491,     0.96491,     0.96491,     0.96491,     0.96491,     0.96491,     0.96491,     0.96491,     0.96491,     0.96491,     0.96491,\n",
       "            0.96491,     0.96491,     0.96491,     0.96491,     0.96491,     0.96491,     0.96491,     0.96491,     0.96491,     0.96491,     0.96491,     0.96491,     0.96491,     0.96491,     0.96491,     0.96491,     0.96491,     0.96491,     0.96491,     0.96491,     0.96491,     0.96491,     0.96491,\n",
       "            0.96491,     0.96491,     0.96491,     0.96491,     0.96491,     0.96491,     0.96491,     0.96491,     0.96491,     0.96491,     0.96491,     0.96491,     0.94915,     0.94915,     0.94915,     0.94915,     0.94915,     0.94915,     0.94915,     0.94915,     0.94915,      0.9375,      0.9375,\n",
       "             0.9375,      0.9375,      0.9375,      0.9375,      0.9375,      0.9375,      0.9375,      0.9375,      0.9375,      0.9375,      0.9375,      0.9375,      0.9375,      0.9375,      0.9375,      0.9375,      0.9375,      0.9375,      0.9375,      0.9375,      0.9375,      0.9375,      0.9375,\n",
       "             0.9375,      0.9375,      0.9375,      0.9375,      0.9375,      0.9375,      0.9375,      0.9375,      0.9375,      0.9375,      0.9375,     0.93056,     0.93056,     0.93056,     0.93056,     0.93056,     0.93056,     0.93056,     0.93056,     0.93056,     0.93056,     0.93056,     0.93056,\n",
       "            0.93056,     0.93056,     0.93056,     0.93056,     0.93056,     0.93056,     0.93056,     0.93056,     0.93056,     0.93056,     0.93056,     0.93056,     0.93056,     0.93056,     0.93056,     0.93056,     0.93056,     0.93056,     0.93056,     0.93056,     0.93056,     0.93056,     0.93056,\n",
       "            0.93056,     0.93056,     0.93056,     0.93056,     0.93056,     0.93056,     0.93056,     0.93056,     0.93056,     0.93056,     0.93056,     0.93056,     0.93056,     0.93056,     0.93056,     0.93056,     0.93056,     0.93056,     0.93056,     0.93056,     0.93056,     0.93056,     0.93056,\n",
       "            0.93056,     0.93056,     0.93056,     0.93056,     0.93056,     0.93056,     0.92208,     0.92208,     0.92208,     0.92208,     0.92208,     0.92208,     0.92208,     0.92208,     0.92208,     0.92208,     0.92208,     0.92208,     0.92208,     0.92208,     0.92208,     0.92208,     0.92208,\n",
       "            0.92208,     0.92208,     0.92208,     0.92208,     0.92208,     0.92208,     0.92208,     0.92208,     0.92208,     0.92208,     0.92208,     0.92208,     0.92208,     0.92208,     0.92208,     0.92208,     0.92208,     0.92208,     0.91566,     0.91566,     0.91566,     0.91566,     0.91566,\n",
       "            0.91566,     0.91566,     0.91566,     0.91566,     0.91566,     0.91566,     0.91566,     0.91566,     0.91566,     0.91566,     0.91566,     0.91566,     0.91566,     0.91566,     0.91566,     0.91566,     0.91566,     0.91566,     0.91566,     0.91566,     0.91566,     0.91566,     0.91566,\n",
       "            0.91566,     0.91566,     0.91566,     0.91566,     0.91566,     0.91566,     0.91566,     0.91566,     0.91566,     0.91566,     0.91566,     0.91566,     0.91566,     0.91566,     0.91566,     0.91566,     0.91566,     0.91011,     0.91011,     0.91011,     0.91011,     0.91011,     0.91011,\n",
       "            0.91011,     0.91011,     0.91011,     0.91011,     0.91011,     0.91011,     0.91011,     0.91011,     0.91011,     0.91011,     0.91011,     0.91011,     0.91011,     0.91011,     0.91011,     0.91011,     0.91011,     0.91011,     0.91011,     0.91011,     0.91011,     0.91011,     0.91011,\n",
       "            0.91011,     0.91011,     0.91011,     0.91011,     0.91011,     0.91011,     0.91011,     0.91011,     0.91011,     0.91011,     0.91011,     0.91011,     0.91011,     0.91011,     0.91011,     0.91011,     0.88172,     0.88172,     0.88172,     0.88172,     0.88172,     0.88172,     0.88172,\n",
       "            0.88172,     0.88172,     0.87368,     0.87368,     0.87368,     0.87368,     0.87368,     0.87368,     0.87368,     0.87368,     0.87368,     0.85859,     0.85859,     0.85859,     0.85859,     0.85859,     0.85859,     0.85859,     0.85859,     0.85859,     0.85859,     0.85859,     0.85859,\n",
       "            0.85859,     0.85859,     0.85859,     0.85859,     0.85859,     0.85859,     0.85149,     0.85149,     0.85149,     0.85149,     0.85149,     0.85149,     0.85149,     0.85149,     0.85149,     0.84466,     0.84466,     0.84466,     0.84466,     0.84466,     0.84466,     0.84466,     0.84466,\n",
       "            0.84466,      0.8381,      0.8381,      0.8381,      0.8381,      0.8381,      0.8381,      0.8381,      0.8381,      0.8381,     0.81651,     0.81651,     0.81651,     0.81651,     0.81651,     0.81651,     0.81651,     0.81651,     0.81651,     0.81081,     0.81081,     0.81081,     0.81081,\n",
       "            0.81081,     0.81081,     0.81081,     0.81081,     0.81081,     0.78448,     0.78448,     0.78448,     0.78448,     0.78448,     0.78448,     0.78448,     0.78448,     0.78448,     0.63889,     0.63889,     0.63889,     0.63889,     0.63889,     0.63889,     0.63889,     0.63889,     0.63889,\n",
       "            0.59236,     0.59236,     0.59236,     0.59236,     0.59236,     0.59236,     0.59236,     0.59236,     0.59236,     0.59119,     0.59119,     0.59119,     0.59119,     0.59119,     0.59119,     0.59119,     0.59119,     0.59119,     0.57927,     0.57927,     0.57927,     0.57927,     0.57927,\n",
       "            0.57927,     0.57927,     0.57927,     0.57927,     0.52747,     0.52747,     0.52747,     0.52747,     0.52747,     0.52747,     0.52747,     0.52747,     0.52747,     0.37891,     0.37891,     0.37891,     0.37891,     0.37891,     0.37891,     0.37891,     0.37891,     0.37891,     0.24688,\n",
       "            0.24688,     0.24688,     0.24688,     0.24688,     0.24688,     0.24688,     0.24688,     0.24688,     0.24688,     0.24688,     0.24688,     0.24688,     0.24688,     0.24688,     0.24688,     0.24688,     0.24688,     0.21186,     0.21186,     0.21186,     0.21186,     0.21186,     0.21186,\n",
       "            0.21186,     0.21186,     0.21186,     0.20528,     0.20528,     0.20528,     0.20528,     0.20528,     0.20528,     0.20528,     0.20528,     0.20528,     0.15716,     0.15716,     0.15716,     0.15716,     0.15716,     0.15716,     0.15716,     0.15716,     0.15716,     0.15716,     0.15677,\n",
       "            0.15677,     0.15677,     0.15677,     0.15677,     0.15677,     0.15677,     0.15677,     0.11466,     0.11466,     0.11466,     0.11466,     0.11466,     0.11466,     0.11466,     0.11466,     0.11466,     0.11029,     0.11029,     0.11029,     0.11029,     0.11029,     0.11029,     0.11029,\n",
       "            0.11029,     0.11029,     0.09282,     0.09282,     0.09282,     0.09282,     0.09282,     0.09282,     0.09282,     0.09282,     0.09282,    0.083927,    0.082062,    0.080197,    0.078332,    0.076467,    0.074602,    0.072737,    0.070872,    0.069007,    0.067142,    0.065277,    0.063412,\n",
       "           0.061547,    0.059682,    0.057816,    0.055951,    0.054086,    0.052221,    0.050356,    0.048491,    0.046626,    0.044761,    0.042896,    0.041031,    0.039166,    0.037301,    0.035436,    0.033571,    0.031706,    0.029841,    0.027976,    0.026111,    0.024246,    0.022381,    0.020516,\n",
       "            0.01865,    0.016785,     0.01492,    0.013055,     0.01119,   0.0093252,   0.0074602,   0.0055951,   0.0037301,    0.001865,           0]]), 'Recall', 'Precision'], [array([          0,    0.001001,    0.002002,    0.003003,    0.004004,    0.005005,    0.006006,    0.007007,    0.008008,    0.009009,     0.01001,    0.011011,    0.012012,    0.013013,    0.014014,    0.015015,    0.016016,    0.017017,    0.018018,    0.019019,     0.02002,    0.021021,    0.022022,    0.023023,\n",
       "          0.024024,    0.025025,    0.026026,    0.027027,    0.028028,    0.029029,     0.03003,    0.031031,    0.032032,    0.033033,    0.034034,    0.035035,    0.036036,    0.037037,    0.038038,    0.039039,     0.04004,    0.041041,    0.042042,    0.043043,    0.044044,    0.045045,    0.046046,    0.047047,\n",
       "          0.048048,    0.049049,     0.05005,    0.051051,    0.052052,    0.053053,    0.054054,    0.055055,    0.056056,    0.057057,    0.058058,    0.059059,     0.06006,    0.061061,    0.062062,    0.063063,    0.064064,    0.065065,    0.066066,    0.067067,    0.068068,    0.069069,     0.07007,    0.071071,\n",
       "          0.072072,    0.073073,    0.074074,    0.075075,    0.076076,    0.077077,    0.078078,    0.079079,     0.08008,    0.081081,    0.082082,    0.083083,    0.084084,    0.085085,    0.086086,    0.087087,    0.088088,    0.089089,     0.09009,    0.091091,    0.092092,    0.093093,    0.094094,    0.095095,\n",
       "          0.096096,    0.097097,    0.098098,    0.099099,      0.1001,      0.1011,      0.1021,      0.1031,      0.1041,     0.10511,     0.10611,     0.10711,     0.10811,     0.10911,     0.11011,     0.11111,     0.11211,     0.11311,     0.11411,     0.11512,     0.11612,     0.11712,     0.11812,     0.11912,\n",
       "           0.12012,     0.12112,     0.12212,     0.12312,     0.12412,     0.12513,     0.12613,     0.12713,     0.12813,     0.12913,     0.13013,     0.13113,     0.13213,     0.13313,     0.13413,     0.13514,     0.13614,     0.13714,     0.13814,     0.13914,     0.14014,     0.14114,     0.14214,     0.14314,\n",
       "           0.14414,     0.14515,     0.14615,     0.14715,     0.14815,     0.14915,     0.15015,     0.15115,     0.15215,     0.15315,     0.15415,     0.15516,     0.15616,     0.15716,     0.15816,     0.15916,     0.16016,     0.16116,     0.16216,     0.16316,     0.16416,     0.16517,     0.16617,     0.16717,\n",
       "           0.16817,     0.16917,     0.17017,     0.17117,     0.17217,     0.17317,     0.17417,     0.17518,     0.17618,     0.17718,     0.17818,     0.17918,     0.18018,     0.18118,     0.18218,     0.18318,     0.18418,     0.18519,     0.18619,     0.18719,     0.18819,     0.18919,     0.19019,     0.19119,\n",
       "           0.19219,     0.19319,     0.19419,      0.1952,      0.1962,      0.1972,      0.1982,      0.1992,      0.2002,      0.2012,      0.2022,      0.2032,      0.2042,     0.20521,     0.20621,     0.20721,     0.20821,     0.20921,     0.21021,     0.21121,     0.21221,     0.21321,     0.21421,     0.21522,\n",
       "           0.21622,     0.21722,     0.21822,     0.21922,     0.22022,     0.22122,     0.22222,     0.22322,     0.22422,     0.22523,     0.22623,     0.22723,     0.22823,     0.22923,     0.23023,     0.23123,     0.23223,     0.23323,     0.23423,     0.23524,     0.23624,     0.23724,     0.23824,     0.23924,\n",
       "           0.24024,     0.24124,     0.24224,     0.24324,     0.24424,     0.24525,     0.24625,     0.24725,     0.24825,     0.24925,     0.25025,     0.25125,     0.25225,     0.25325,     0.25425,     0.25526,     0.25626,     0.25726,     0.25826,     0.25926,     0.26026,     0.26126,     0.26226,     0.26326,\n",
       "           0.26426,     0.26527,     0.26627,     0.26727,     0.26827,     0.26927,     0.27027,     0.27127,     0.27227,     0.27327,     0.27427,     0.27528,     0.27628,     0.27728,     0.27828,     0.27928,     0.28028,     0.28128,     0.28228,     0.28328,     0.28428,     0.28529,     0.28629,     0.28729,\n",
       "           0.28829,     0.28929,     0.29029,     0.29129,     0.29229,     0.29329,     0.29429,      0.2953,      0.2963,      0.2973,      0.2983,      0.2993,      0.3003,      0.3013,      0.3023,      0.3033,      0.3043,     0.30531,     0.30631,     0.30731,     0.30831,     0.30931,     0.31031,     0.31131,\n",
       "           0.31231,     0.31331,     0.31431,     0.31532,     0.31632,     0.31732,     0.31832,     0.31932,     0.32032,     0.32132,     0.32232,     0.32332,     0.32432,     0.32533,     0.32633,     0.32733,     0.32833,     0.32933,     0.33033,     0.33133,     0.33233,     0.33333,     0.33433,     0.33534,\n",
       "           0.33634,     0.33734,     0.33834,     0.33934,     0.34034,     0.34134,     0.34234,     0.34334,     0.34434,     0.34535,     0.34635,     0.34735,     0.34835,     0.34935,     0.35035,     0.35135,     0.35235,     0.35335,     0.35435,     0.35536,     0.35636,     0.35736,     0.35836,     0.35936,\n",
       "           0.36036,     0.36136,     0.36236,     0.36336,     0.36436,     0.36537,     0.36637,     0.36737,     0.36837,     0.36937,     0.37037,     0.37137,     0.37237,     0.37337,     0.37437,     0.37538,     0.37638,     0.37738,     0.37838,     0.37938,     0.38038,     0.38138,     0.38238,     0.38338,\n",
       "           0.38438,     0.38539,     0.38639,     0.38739,     0.38839,     0.38939,     0.39039,     0.39139,     0.39239,     0.39339,     0.39439,      0.3954,      0.3964,      0.3974,      0.3984,      0.3994,      0.4004,      0.4014,      0.4024,      0.4034,      0.4044,     0.40541,     0.40641,     0.40741,\n",
       "           0.40841,     0.40941,     0.41041,     0.41141,     0.41241,     0.41341,     0.41441,     0.41542,     0.41642,     0.41742,     0.41842,     0.41942,     0.42042,     0.42142,     0.42242,     0.42342,     0.42442,     0.42543,     0.42643,     0.42743,     0.42843,     0.42943,     0.43043,     0.43143,\n",
       "           0.43243,     0.43343,     0.43443,     0.43544,     0.43644,     0.43744,     0.43844,     0.43944,     0.44044,     0.44144,     0.44244,     0.44344,     0.44444,     0.44545,     0.44645,     0.44745,     0.44845,     0.44945,     0.45045,     0.45145,     0.45245,     0.45345,     0.45445,     0.45546,\n",
       "           0.45646,     0.45746,     0.45846,     0.45946,     0.46046,     0.46146,     0.46246,     0.46346,     0.46446,     0.46547,     0.46647,     0.46747,     0.46847,     0.46947,     0.47047,     0.47147,     0.47247,     0.47347,     0.47447,     0.47548,     0.47648,     0.47748,     0.47848,     0.47948,\n",
       "           0.48048,     0.48148,     0.48248,     0.48348,     0.48448,     0.48549,     0.48649,     0.48749,     0.48849,     0.48949,     0.49049,     0.49149,     0.49249,     0.49349,     0.49449,      0.4955,      0.4965,      0.4975,      0.4985,      0.4995,      0.5005,      0.5015,      0.5025,      0.5035,\n",
       "            0.5045,     0.50551,     0.50651,     0.50751,     0.50851,     0.50951,     0.51051,     0.51151,     0.51251,     0.51351,     0.51451,     0.51552,     0.51652,     0.51752,     0.51852,     0.51952,     0.52052,     0.52152,     0.52252,     0.52352,     0.52452,     0.52553,     0.52653,     0.52753,\n",
       "           0.52853,     0.52953,     0.53053,     0.53153,     0.53253,     0.53353,     0.53453,     0.53554,     0.53654,     0.53754,     0.53854,     0.53954,     0.54054,     0.54154,     0.54254,     0.54354,     0.54454,     0.54555,     0.54655,     0.54755,     0.54855,     0.54955,     0.55055,     0.55155,\n",
       "           0.55255,     0.55355,     0.55455,     0.55556,     0.55656,     0.55756,     0.55856,     0.55956,     0.56056,     0.56156,     0.56256,     0.56356,     0.56456,     0.56557,     0.56657,     0.56757,     0.56857,     0.56957,     0.57057,     0.57157,     0.57257,     0.57357,     0.57457,     0.57558,\n",
       "           0.57658,     0.57758,     0.57858,     0.57958,     0.58058,     0.58158,     0.58258,     0.58358,     0.58458,     0.58559,     0.58659,     0.58759,     0.58859,     0.58959,     0.59059,     0.59159,     0.59259,     0.59359,     0.59459,      0.5956,      0.5966,      0.5976,      0.5986,      0.5996,\n",
       "            0.6006,      0.6016,      0.6026,      0.6036,      0.6046,     0.60561,     0.60661,     0.60761,     0.60861,     0.60961,     0.61061,     0.61161,     0.61261,     0.61361,     0.61461,     0.61562,     0.61662,     0.61762,     0.61862,     0.61962,     0.62062,     0.62162,     0.62262,     0.62362,\n",
       "           0.62462,     0.62563,     0.62663,     0.62763,     0.62863,     0.62963,     0.63063,     0.63163,     0.63263,     0.63363,     0.63463,     0.63564,     0.63664,     0.63764,     0.63864,     0.63964,     0.64064,     0.64164,     0.64264,     0.64364,     0.64464,     0.64565,     0.64665,     0.64765,\n",
       "           0.64865,     0.64965,     0.65065,     0.65165,     0.65265,     0.65365,     0.65465,     0.65566,     0.65666,     0.65766,     0.65866,     0.65966,     0.66066,     0.66166,     0.66266,     0.66366,     0.66466,     0.66567,     0.66667,     0.66767,     0.66867,     0.66967,     0.67067,     0.67167,\n",
       "           0.67267,     0.67367,     0.67467,     0.67568,     0.67668,     0.67768,     0.67868,     0.67968,     0.68068,     0.68168,     0.68268,     0.68368,     0.68468,     0.68569,     0.68669,     0.68769,     0.68869,     0.68969,     0.69069,     0.69169,     0.69269,     0.69369,     0.69469,      0.6957,\n",
       "            0.6967,      0.6977,      0.6987,      0.6997,      0.7007,      0.7017,      0.7027,      0.7037,      0.7047,     0.70571,     0.70671,     0.70771,     0.70871,     0.70971,     0.71071,     0.71171,     0.71271,     0.71371,     0.71471,     0.71572,     0.71672,     0.71772,     0.71872,     0.71972,\n",
       "           0.72072,     0.72172,     0.72272,     0.72372,     0.72472,     0.72573,     0.72673,     0.72773,     0.72873,     0.72973,     0.73073,     0.73173,     0.73273,     0.73373,     0.73473,     0.73574,     0.73674,     0.73774,     0.73874,     0.73974,     0.74074,     0.74174,     0.74274,     0.74374,\n",
       "           0.74474,     0.74575,     0.74675,     0.74775,     0.74875,     0.74975,     0.75075,     0.75175,     0.75275,     0.75375,     0.75475,     0.75576,     0.75676,     0.75776,     0.75876,     0.75976,     0.76076,     0.76176,     0.76276,     0.76376,     0.76476,     0.76577,     0.76677,     0.76777,\n",
       "           0.76877,     0.76977,     0.77077,     0.77177,     0.77277,     0.77377,     0.77477,     0.77578,     0.77678,     0.77778,     0.77878,     0.77978,     0.78078,     0.78178,     0.78278,     0.78378,     0.78478,     0.78579,     0.78679,     0.78779,     0.78879,     0.78979,     0.79079,     0.79179,\n",
       "           0.79279,     0.79379,     0.79479,      0.7958,      0.7968,      0.7978,      0.7988,      0.7998,      0.8008,      0.8018,      0.8028,      0.8038,      0.8048,     0.80581,     0.80681,     0.80781,     0.80881,     0.80981,     0.81081,     0.81181,     0.81281,     0.81381,     0.81481,     0.81582,\n",
       "           0.81682,     0.81782,     0.81882,     0.81982,     0.82082,     0.82182,     0.82282,     0.82382,     0.82482,     0.82583,     0.82683,     0.82783,     0.82883,     0.82983,     0.83083,     0.83183,     0.83283,     0.83383,     0.83483,     0.83584,     0.83684,     0.83784,     0.83884,     0.83984,\n",
       "           0.84084,     0.84184,     0.84284,     0.84384,     0.84484,     0.84585,     0.84685,     0.84785,     0.84885,     0.84985,     0.85085,     0.85185,     0.85285,     0.85385,     0.85485,     0.85586,     0.85686,     0.85786,     0.85886,     0.85986,     0.86086,     0.86186,     0.86286,     0.86386,\n",
       "           0.86486,     0.86587,     0.86687,     0.86787,     0.86887,     0.86987,     0.87087,     0.87187,     0.87287,     0.87387,     0.87487,     0.87588,     0.87688,     0.87788,     0.87888,     0.87988,     0.88088,     0.88188,     0.88288,     0.88388,     0.88488,     0.88589,     0.88689,     0.88789,\n",
       "           0.88889,     0.88989,     0.89089,     0.89189,     0.89289,     0.89389,     0.89489,      0.8959,      0.8969,      0.8979,      0.8989,      0.8999,      0.9009,      0.9019,      0.9029,      0.9039,      0.9049,     0.90591,     0.90691,     0.90791,     0.90891,     0.90991,     0.91091,     0.91191,\n",
       "           0.91291,     0.91391,     0.91491,     0.91592,     0.91692,     0.91792,     0.91892,     0.91992,     0.92092,     0.92192,     0.92292,     0.92392,     0.92492,     0.92593,     0.92693,     0.92793,     0.92893,     0.92993,     0.93093,     0.93193,     0.93293,     0.93393,     0.93493,     0.93594,\n",
       "           0.93694,     0.93794,     0.93894,     0.93994,     0.94094,     0.94194,     0.94294,     0.94394,     0.94494,     0.94595,     0.94695,     0.94795,     0.94895,     0.94995,     0.95095,     0.95195,     0.95295,     0.95395,     0.95495,     0.95596,     0.95696,     0.95796,     0.95896,     0.95996,\n",
       "           0.96096,     0.96196,     0.96296,     0.96396,     0.96496,     0.96597,     0.96697,     0.96797,     0.96897,     0.96997,     0.97097,     0.97197,     0.97297,     0.97397,     0.97497,     0.97598,     0.97698,     0.97798,     0.97898,     0.97998,     0.98098,     0.98198,     0.98298,     0.98398,\n",
       "           0.98498,     0.98599,     0.98699,     0.98799,     0.98899,     0.98999,     0.99099,     0.99199,     0.99299,     0.99399,     0.99499,       0.996,       0.997,       0.998,       0.999,           1]), array([[    0.15429,     0.15429,      0.2062,     0.24609,     0.27296,     0.29636,     0.31663,     0.33423,     0.34655,     0.35916,      0.3724,     0.38287,     0.39675,       0.406,     0.41745,     0.42544,     0.43586,     0.44069,      0.4527,     0.46097,     0.46861,     0.47668,     0.48083,\n",
       "             0.4852,     0.49176,     0.49912,     0.50464,     0.50891,     0.51635,     0.52053,     0.52299,     0.52719,     0.52787,     0.53423,     0.53724,     0.54078,     0.54706,     0.55043,     0.55859,     0.56218,     0.56514,     0.56592,     0.56878,     0.57228,     0.57405,     0.57927,\n",
       "            0.58283,     0.59641,     0.59736,     0.60003,     0.60426,     0.60691,     0.61151,     0.61464,     0.61978,     0.62146,     0.62307,     0.62538,     0.62829,     0.63071,     0.63212,     0.63297,     0.63384,     0.63485,     0.63607,     0.63974,     0.64448,     0.64537,     0.64626,\n",
       "            0.64714,     0.64801,      0.6494,     0.65125,      0.6521,     0.65294,     0.65115,      0.6537,     0.65472,     0.65667,     0.65984,     0.66056,     0.66129,     0.66201,     0.66744,     0.66858,     0.67258,     0.67513,     0.67734,     0.67892,     0.67962,     0.68032,     0.68102,\n",
       "            0.68151,     0.68201,     0.68251,       0.683,     0.68405,     0.68995,     0.68764,     0.68632,     0.68686,      0.6874,     0.68795,     0.68849,     0.68891,     0.68929,     0.68967,     0.69005,     0.69042,      0.6908,     0.69119,     0.69461,      0.6918,     0.69253,     0.69326,\n",
       "            0.69399,     0.68926,     0.69006,     0.69086,     0.69166,     0.69513,     0.69672,     0.70007,     0.70114,      0.7022,     0.70293,     0.70364,     0.70434,     0.70785,     0.70989,      0.7128,     0.71409,     0.71513,     0.71652,     0.71886,     0.71938,     0.71989,     0.72041,\n",
       "            0.72092,     0.72143,     0.72097,     0.72017,     0.71936,     0.71855,     0.71774,     0.71693,     0.72088,     0.72254,     0.72313,     0.72372,     0.72431,      0.7249,     0.72552,     0.72614,     0.72677,     0.72739,     0.72805,      0.7299,     0.73117,     0.73174,      0.7323,\n",
       "            0.73286,     0.73342,     0.73409,      0.7352,     0.73631,     0.73698,     0.73724,     0.73749,     0.73775,     0.73801,     0.73827,     0.73853,     0.73879,     0.73905,      0.7393,     0.73956,     0.73982,     0.74066,     0.74155,     0.74243,     0.74415,     0.74599,     0.74628,\n",
       "            0.74657,     0.74686,     0.74715,     0.74744,     0.74773,     0.74802,      0.7483,     0.74859,     0.74888,     0.74985,     0.75111,     0.75216,     0.75254,     0.75293,     0.75331,     0.75369,     0.75407,     0.75445,     0.75484,     0.75521,      0.7555,     0.75579,     0.75608,\n",
       "            0.75637,     0.75666,     0.75695,     0.75724,     0.75753,     0.75782,     0.75811,     0.75845,     0.75899,     0.75952,     0.76005,     0.76058,     0.76111,      0.7626,     0.76556,     0.76722,     0.76811,     0.76843,     0.76874,     0.76905,     0.76937,     0.76968,        0.77,\n",
       "            0.77031,     0.77062,     0.77094,     0.77127,     0.77166,     0.77205,     0.77244,     0.77283,     0.77322,     0.77361,       0.774,     0.77439,     0.77498,     0.77563,     0.77627,     0.77692,     0.77756,      0.7793,     0.78125,     0.78191,     0.78257,     0.78322,     0.78388,\n",
       "            0.78452,     0.78494,     0.78536,     0.78579,     0.78621,     0.78663,     0.78705,     0.78747,     0.78791,     0.78879,     0.78966,     0.79054,     0.79161,     0.79397,     0.79549,     0.79659,     0.79769,      0.7985,     0.79902,     0.79953,     0.80005,     0.80056,     0.80108,\n",
       "            0.80159,     0.80086,      0.7995,     0.79814,     0.79678,     0.79694,     0.79758,     0.79821,     0.79884,     0.79947,     0.80013,       0.801,     0.80186,     0.80272,     0.80358,     0.80436,     0.80514,     0.80591,     0.80669,     0.80741,     0.80803,     0.80865,     0.80927,\n",
       "            0.80989,     0.81051,     0.80918,     0.80602,     0.80665,     0.80815,     0.80845,     0.80674,     0.80502,      0.8037,     0.80393,     0.80416,     0.80439,     0.80462,     0.80485,     0.80508,     0.80531,     0.80554,     0.80576,     0.80599,     0.80622,     0.80645,     0.80668,\n",
       "            0.80691,     0.80714,     0.80737,     0.80766,     0.80795,     0.80824,     0.80852,     0.80881,      0.8091,     0.80939,     0.80968,     0.80996,     0.81025,     0.81054,     0.81082,     0.81109,     0.81123,     0.81138,     0.81152,     0.81167,     0.81182,     0.81196,     0.81211,\n",
       "            0.81225,      0.8124,     0.81254,     0.81269,     0.81283,     0.81298,     0.81312,     0.81327,     0.81341,     0.81356,      0.8137,     0.81385,     0.81399,     0.81414,     0.81428,     0.81443,     0.81457,     0.81472,     0.81448,     0.81346,     0.81243,      0.8114,     0.81037,\n",
       "            0.80934,     0.81302,     0.80988,      0.8078,     0.80885,     0.80989,     0.81093,     0.80954,     0.80665,     0.80609,      0.8067,     0.80731,     0.80791,     0.80852,     0.80912,     0.80927,     0.80849,     0.80772,     0.80694,     0.80616,     0.80538,      0.8046,     0.79808,\n",
       "            0.79814,      0.7982,     0.79826,     0.79832,     0.79838,     0.79844,      0.7985,     0.79856,     0.79862,     0.79868,     0.79874,      0.7988,     0.79886,     0.79892,     0.79898,     0.79904,      0.7991,     0.79916,     0.79922,     0.79928,     0.79933,     0.79939,     0.79945,\n",
       "            0.79951,     0.79957,     0.79963,     0.79969,     0.79975,     0.79981,     0.79987,     0.79993,     0.79999,     0.80005,     0.80011,     0.80017,     0.80023,     0.80029,     0.80035,     0.80041,     0.80047,     0.80053,     0.80059,     0.80065,     0.80071,     0.80077,     0.80083,\n",
       "            0.80089,     0.80094,       0.801,     0.80106,     0.80112,     0.80118,     0.80124,      0.8013,     0.80136,     0.80142,     0.80148,     0.80154,      0.8016,     0.80166,     0.80172,     0.80178,     0.80184,      0.8019,     0.80206,     0.80239,     0.80273,     0.80306,     0.80339,\n",
       "            0.80373,     0.80406,     0.80439,     0.80472,     0.80505,     0.80539,     0.80572,     0.80383,     0.80084,     0.80097,     0.80231,     0.80364,     0.80358,     0.80315,     0.80272,     0.80229,     0.80186,     0.80143,       0.801,     0.80057,     0.80013,      0.7997,     0.79927,\n",
       "            0.79884,      0.7984,     0.79806,     0.79832,     0.79857,     0.79883,     0.79908,     0.79933,     0.79959,     0.79984,     0.80009,     0.80035,      0.8006,     0.80085,      0.8011,     0.80136,     0.80161,     0.80186,     0.80225,     0.80276,     0.80328,     0.80379,      0.8043,\n",
       "            0.80481,     0.80532,     0.80583,     0.79957,     0.79705,      0.7958,     0.79455,      0.7933,     0.79205,     0.79158,     0.79123,     0.79088,     0.79053,     0.79018,     0.78982,     0.78947,     0.78912,     0.78877,     0.78842,     0.78807,     0.78772,     0.78737,     0.78702,\n",
       "            0.78666,     0.78631,     0.78596,     0.78533,     0.78405,     0.78278,      0.7815,     0.78022,     0.77978,     0.78047,     0.78116,     0.78185,     0.78253,     0.78321,     0.78314,     0.78249,     0.78185,      0.7812,     0.78056,     0.77991,     0.77926,     0.77862,     0.77797,\n",
       "            0.77732,     0.76814,     0.76484,     0.76351,     0.76249,     0.76146,     0.76044,     0.75941,     0.75838,     0.75731,     0.75619,     0.75507,     0.75394,     0.75282,     0.75169,     0.75408,     0.75501,     0.75458,     0.75414,      0.7537,     0.75326,     0.75282,     0.75238,\n",
       "            0.75194,      0.7515,     0.75106,     0.75062,     0.75018,     0.74973,     0.74929,     0.74885,     0.74094,      0.7392,     0.73746,     0.73571,      0.7349,     0.73456,     0.73422,     0.73388,     0.73353,     0.73319,     0.73285,     0.73251,     0.73216,     0.73182,     0.73147,\n",
       "            0.73113,     0.73079,     0.73044,      0.7301,     0.72975,     0.72941,     0.72906,     0.72872,     0.72837,      0.7301,     0.73187,     0.73009,      0.7283,     0.72652,     0.72498,     0.72402,     0.72306,      0.7221,     0.72114,     0.72017,     0.71921,     0.71824,     0.71463,\n",
       "            0.70387,     0.70288,     0.70189,     0.70089,      0.6999,      0.6989,     0.69791,     0.69691,     0.69118,     0.68823,     0.68685,     0.68546,     0.68407,     0.68268,     0.68335,     0.68548,     0.68491,     0.68434,     0.68377,      0.6832,     0.68262,     0.68205,     0.68148,\n",
       "             0.6809,     0.68033,     0.67975,     0.67918,      0.6786,      0.6781,     0.67782,     0.67754,     0.67726,     0.67698,      0.6767,     0.67642,     0.67614,     0.67587,     0.67559,     0.67531,     0.67503,     0.67475,     0.67447,     0.67419,     0.67391,     0.67363,     0.67335,\n",
       "            0.67307,     0.67279,     0.67251,     0.67223,     0.67195,     0.67167,     0.67139,     0.67111,     0.67082,     0.67054,     0.66252,     0.66188,     0.66124,      0.6606,     0.65996,     0.65932,     0.65868,     0.65804,     0.65739,     0.65675,     0.65611,     0.65546,     0.65524,\n",
       "            0.65638,      0.6575,     0.65862,     0.65025,     0.64611,     0.64445,     0.64278,      0.6411,     0.63943,     0.63586,     0.63023,     0.62596,     0.62188,      0.6208,     0.61972,     0.61864,     0.61756,     0.61647,     0.61539,      0.6143,     0.61236,     0.60798,     0.60469,\n",
       "            0.60389,     0.60308,     0.60228,     0.60147,     0.60066,     0.59986,     0.59905,     0.59824,     0.59743,     0.59662,     0.59368,     0.58918,      0.5837,     0.57837,     0.57684,      0.5753,     0.57377,     0.57223,     0.57069,     0.56995,     0.57103,     0.57209,     0.57314,\n",
       "            0.54911,     0.54406,     0.54082,     0.53756,     0.53263,     0.52622,     0.52401,     0.52179,     0.51957,     0.51733,     0.51436,     0.51099,      0.5076,     0.50568,     0.50431,     0.50295,     0.50158,     0.50021,     0.49884,     0.49746,     0.48362,     0.47658,     0.47665,\n",
       "            0.47713,     0.47761,     0.47809,     0.47857,     0.47904,     0.47862,     0.47147,     0.46424,     0.45695,     0.44958,     0.43114,     0.42499,      0.4229,     0.42081,     0.41871,     0.41661,      0.4145,     0.40731,     0.39947,     0.39154,     0.38952,     0.38767,     0.38583,\n",
       "            0.38397,     0.38212,     0.38025,     0.37765,     0.37461,     0.37155,     0.36849,     0.36466,     0.36054,     0.35639,     0.34125,     0.33871,     0.33616,      0.3336,     0.33103,     0.32607,     0.32088,     0.31566,      0.3104,     0.27867,      0.2695,     0.26239,      0.2568,\n",
       "            0.24997,     0.20919,     0.20622,     0.20324,     0.20026,     0.19726,     0.19223,     0.18211,     0.17822,     0.17567,      0.1731,     0.17053,     0.16795,     0.16536,      0.1491,     0.14817,     0.14723,      0.1463,     0.14537,     0.14443,      0.1435,     0.14256,     0.14162,\n",
       "            0.14068,     0.13975,      0.1388,     0.13786,     0.13692,     0.13598,     0.13503,     0.12823,      0.1182,     0.11711,     0.11601,     0.11492,     0.11383,     0.11273,     0.11163,     0.11054,     0.10944,     0.10833,     0.10723,     0.10613,     0.10502,     0.10392,     0.10281,\n",
       "           0.099978,    0.096638,    0.093287,    0.089924,    0.086549,    0.066749,    0.063606,    0.060453,     0.05729,    0.054117,    0.052113,    0.051139,    0.050164,    0.049189,    0.048212,    0.047234,    0.046256,    0.045276,    0.044295,    0.043314,    0.042331,    0.041348,    0.040363,\n",
       "           0.039377,    0.038391,    0.037403,    0.036415,    0.035425,    0.032242,    0.028986,    0.025719,    0.022441,    0.019153,           0,           0,           0,           0,           0,           0,           0,           0,           0,           0,           0,           0,           0,\n",
       "                  0,           0,           0,           0,           0,           0,           0,           0,           0,           0,           0,           0,           0,           0,           0,           0,           0,           0,           0,           0,           0,           0,           0,\n",
       "                  0,           0,           0,           0,           0,           0,           0,           0,           0,           0,           0,           0,           0,           0,           0,           0,           0,           0,           0,           0,           0,           0,           0,\n",
       "                  0,           0,           0,           0,           0,           0,           0,           0,           0,           0,           0,           0,           0,           0,           0,           0,           0,           0,           0,           0,           0,           0,           0,\n",
       "                  0,           0,           0,           0,           0,           0,           0,           0,           0,           0,           0,           0,           0,           0,           0,           0,           0,           0,           0,           0,           0,           0,           0,\n",
       "                  0,           0,           0,           0,           0,           0,           0,           0,           0,           0,           0]]), 'Confidence', 'F1'], [array([          0,    0.001001,    0.002002,    0.003003,    0.004004,    0.005005,    0.006006,    0.007007,    0.008008,    0.009009,     0.01001,    0.011011,    0.012012,    0.013013,    0.014014,    0.015015,    0.016016,    0.017017,    0.018018,    0.019019,     0.02002,    0.021021,    0.022022,    0.023023,\n",
       "          0.024024,    0.025025,    0.026026,    0.027027,    0.028028,    0.029029,     0.03003,    0.031031,    0.032032,    0.033033,    0.034034,    0.035035,    0.036036,    0.037037,    0.038038,    0.039039,     0.04004,    0.041041,    0.042042,    0.043043,    0.044044,    0.045045,    0.046046,    0.047047,\n",
       "          0.048048,    0.049049,     0.05005,    0.051051,    0.052052,    0.053053,    0.054054,    0.055055,    0.056056,    0.057057,    0.058058,    0.059059,     0.06006,    0.061061,    0.062062,    0.063063,    0.064064,    0.065065,    0.066066,    0.067067,    0.068068,    0.069069,     0.07007,    0.071071,\n",
       "          0.072072,    0.073073,    0.074074,    0.075075,    0.076076,    0.077077,    0.078078,    0.079079,     0.08008,    0.081081,    0.082082,    0.083083,    0.084084,    0.085085,    0.086086,    0.087087,    0.088088,    0.089089,     0.09009,    0.091091,    0.092092,    0.093093,    0.094094,    0.095095,\n",
       "          0.096096,    0.097097,    0.098098,    0.099099,      0.1001,      0.1011,      0.1021,      0.1031,      0.1041,     0.10511,     0.10611,     0.10711,     0.10811,     0.10911,     0.11011,     0.11111,     0.11211,     0.11311,     0.11411,     0.11512,     0.11612,     0.11712,     0.11812,     0.11912,\n",
       "           0.12012,     0.12112,     0.12212,     0.12312,     0.12412,     0.12513,     0.12613,     0.12713,     0.12813,     0.12913,     0.13013,     0.13113,     0.13213,     0.13313,     0.13413,     0.13514,     0.13614,     0.13714,     0.13814,     0.13914,     0.14014,     0.14114,     0.14214,     0.14314,\n",
       "           0.14414,     0.14515,     0.14615,     0.14715,     0.14815,     0.14915,     0.15015,     0.15115,     0.15215,     0.15315,     0.15415,     0.15516,     0.15616,     0.15716,     0.15816,     0.15916,     0.16016,     0.16116,     0.16216,     0.16316,     0.16416,     0.16517,     0.16617,     0.16717,\n",
       "           0.16817,     0.16917,     0.17017,     0.17117,     0.17217,     0.17317,     0.17417,     0.17518,     0.17618,     0.17718,     0.17818,     0.17918,     0.18018,     0.18118,     0.18218,     0.18318,     0.18418,     0.18519,     0.18619,     0.18719,     0.18819,     0.18919,     0.19019,     0.19119,\n",
       "           0.19219,     0.19319,     0.19419,      0.1952,      0.1962,      0.1972,      0.1982,      0.1992,      0.2002,      0.2012,      0.2022,      0.2032,      0.2042,     0.20521,     0.20621,     0.20721,     0.20821,     0.20921,     0.21021,     0.21121,     0.21221,     0.21321,     0.21421,     0.21522,\n",
       "           0.21622,     0.21722,     0.21822,     0.21922,     0.22022,     0.22122,     0.22222,     0.22322,     0.22422,     0.22523,     0.22623,     0.22723,     0.22823,     0.22923,     0.23023,     0.23123,     0.23223,     0.23323,     0.23423,     0.23524,     0.23624,     0.23724,     0.23824,     0.23924,\n",
       "           0.24024,     0.24124,     0.24224,     0.24324,     0.24424,     0.24525,     0.24625,     0.24725,     0.24825,     0.24925,     0.25025,     0.25125,     0.25225,     0.25325,     0.25425,     0.25526,     0.25626,     0.25726,     0.25826,     0.25926,     0.26026,     0.26126,     0.26226,     0.26326,\n",
       "           0.26426,     0.26527,     0.26627,     0.26727,     0.26827,     0.26927,     0.27027,     0.27127,     0.27227,     0.27327,     0.27427,     0.27528,     0.27628,     0.27728,     0.27828,     0.27928,     0.28028,     0.28128,     0.28228,     0.28328,     0.28428,     0.28529,     0.28629,     0.28729,\n",
       "           0.28829,     0.28929,     0.29029,     0.29129,     0.29229,     0.29329,     0.29429,      0.2953,      0.2963,      0.2973,      0.2983,      0.2993,      0.3003,      0.3013,      0.3023,      0.3033,      0.3043,     0.30531,     0.30631,     0.30731,     0.30831,     0.30931,     0.31031,     0.31131,\n",
       "           0.31231,     0.31331,     0.31431,     0.31532,     0.31632,     0.31732,     0.31832,     0.31932,     0.32032,     0.32132,     0.32232,     0.32332,     0.32432,     0.32533,     0.32633,     0.32733,     0.32833,     0.32933,     0.33033,     0.33133,     0.33233,     0.33333,     0.33433,     0.33534,\n",
       "           0.33634,     0.33734,     0.33834,     0.33934,     0.34034,     0.34134,     0.34234,     0.34334,     0.34434,     0.34535,     0.34635,     0.34735,     0.34835,     0.34935,     0.35035,     0.35135,     0.35235,     0.35335,     0.35435,     0.35536,     0.35636,     0.35736,     0.35836,     0.35936,\n",
       "           0.36036,     0.36136,     0.36236,     0.36336,     0.36436,     0.36537,     0.36637,     0.36737,     0.36837,     0.36937,     0.37037,     0.37137,     0.37237,     0.37337,     0.37437,     0.37538,     0.37638,     0.37738,     0.37838,     0.37938,     0.38038,     0.38138,     0.38238,     0.38338,\n",
       "           0.38438,     0.38539,     0.38639,     0.38739,     0.38839,     0.38939,     0.39039,     0.39139,     0.39239,     0.39339,     0.39439,      0.3954,      0.3964,      0.3974,      0.3984,      0.3994,      0.4004,      0.4014,      0.4024,      0.4034,      0.4044,     0.40541,     0.40641,     0.40741,\n",
       "           0.40841,     0.40941,     0.41041,     0.41141,     0.41241,     0.41341,     0.41441,     0.41542,     0.41642,     0.41742,     0.41842,     0.41942,     0.42042,     0.42142,     0.42242,     0.42342,     0.42442,     0.42543,     0.42643,     0.42743,     0.42843,     0.42943,     0.43043,     0.43143,\n",
       "           0.43243,     0.43343,     0.43443,     0.43544,     0.43644,     0.43744,     0.43844,     0.43944,     0.44044,     0.44144,     0.44244,     0.44344,     0.44444,     0.44545,     0.44645,     0.44745,     0.44845,     0.44945,     0.45045,     0.45145,     0.45245,     0.45345,     0.45445,     0.45546,\n",
       "           0.45646,     0.45746,     0.45846,     0.45946,     0.46046,     0.46146,     0.46246,     0.46346,     0.46446,     0.46547,     0.46647,     0.46747,     0.46847,     0.46947,     0.47047,     0.47147,     0.47247,     0.47347,     0.47447,     0.47548,     0.47648,     0.47748,     0.47848,     0.47948,\n",
       "           0.48048,     0.48148,     0.48248,     0.48348,     0.48448,     0.48549,     0.48649,     0.48749,     0.48849,     0.48949,     0.49049,     0.49149,     0.49249,     0.49349,     0.49449,      0.4955,      0.4965,      0.4975,      0.4985,      0.4995,      0.5005,      0.5015,      0.5025,      0.5035,\n",
       "            0.5045,     0.50551,     0.50651,     0.50751,     0.50851,     0.50951,     0.51051,     0.51151,     0.51251,     0.51351,     0.51451,     0.51552,     0.51652,     0.51752,     0.51852,     0.51952,     0.52052,     0.52152,     0.52252,     0.52352,     0.52452,     0.52553,     0.52653,     0.52753,\n",
       "           0.52853,     0.52953,     0.53053,     0.53153,     0.53253,     0.53353,     0.53453,     0.53554,     0.53654,     0.53754,     0.53854,     0.53954,     0.54054,     0.54154,     0.54254,     0.54354,     0.54454,     0.54555,     0.54655,     0.54755,     0.54855,     0.54955,     0.55055,     0.55155,\n",
       "           0.55255,     0.55355,     0.55455,     0.55556,     0.55656,     0.55756,     0.55856,     0.55956,     0.56056,     0.56156,     0.56256,     0.56356,     0.56456,     0.56557,     0.56657,     0.56757,     0.56857,     0.56957,     0.57057,     0.57157,     0.57257,     0.57357,     0.57457,     0.57558,\n",
       "           0.57658,     0.57758,     0.57858,     0.57958,     0.58058,     0.58158,     0.58258,     0.58358,     0.58458,     0.58559,     0.58659,     0.58759,     0.58859,     0.58959,     0.59059,     0.59159,     0.59259,     0.59359,     0.59459,      0.5956,      0.5966,      0.5976,      0.5986,      0.5996,\n",
       "            0.6006,      0.6016,      0.6026,      0.6036,      0.6046,     0.60561,     0.60661,     0.60761,     0.60861,     0.60961,     0.61061,     0.61161,     0.61261,     0.61361,     0.61461,     0.61562,     0.61662,     0.61762,     0.61862,     0.61962,     0.62062,     0.62162,     0.62262,     0.62362,\n",
       "           0.62462,     0.62563,     0.62663,     0.62763,     0.62863,     0.62963,     0.63063,     0.63163,     0.63263,     0.63363,     0.63463,     0.63564,     0.63664,     0.63764,     0.63864,     0.63964,     0.64064,     0.64164,     0.64264,     0.64364,     0.64464,     0.64565,     0.64665,     0.64765,\n",
       "           0.64865,     0.64965,     0.65065,     0.65165,     0.65265,     0.65365,     0.65465,     0.65566,     0.65666,     0.65766,     0.65866,     0.65966,     0.66066,     0.66166,     0.66266,     0.66366,     0.66466,     0.66567,     0.66667,     0.66767,     0.66867,     0.66967,     0.67067,     0.67167,\n",
       "           0.67267,     0.67367,     0.67467,     0.67568,     0.67668,     0.67768,     0.67868,     0.67968,     0.68068,     0.68168,     0.68268,     0.68368,     0.68468,     0.68569,     0.68669,     0.68769,     0.68869,     0.68969,     0.69069,     0.69169,     0.69269,     0.69369,     0.69469,      0.6957,\n",
       "            0.6967,      0.6977,      0.6987,      0.6997,      0.7007,      0.7017,      0.7027,      0.7037,      0.7047,     0.70571,     0.70671,     0.70771,     0.70871,     0.70971,     0.71071,     0.71171,     0.71271,     0.71371,     0.71471,     0.71572,     0.71672,     0.71772,     0.71872,     0.71972,\n",
       "           0.72072,     0.72172,     0.72272,     0.72372,     0.72472,     0.72573,     0.72673,     0.72773,     0.72873,     0.72973,     0.73073,     0.73173,     0.73273,     0.73373,     0.73473,     0.73574,     0.73674,     0.73774,     0.73874,     0.73974,     0.74074,     0.74174,     0.74274,     0.74374,\n",
       "           0.74474,     0.74575,     0.74675,     0.74775,     0.74875,     0.74975,     0.75075,     0.75175,     0.75275,     0.75375,     0.75475,     0.75576,     0.75676,     0.75776,     0.75876,     0.75976,     0.76076,     0.76176,     0.76276,     0.76376,     0.76476,     0.76577,     0.76677,     0.76777,\n",
       "           0.76877,     0.76977,     0.77077,     0.77177,     0.77277,     0.77377,     0.77477,     0.77578,     0.77678,     0.77778,     0.77878,     0.77978,     0.78078,     0.78178,     0.78278,     0.78378,     0.78478,     0.78579,     0.78679,     0.78779,     0.78879,     0.78979,     0.79079,     0.79179,\n",
       "           0.79279,     0.79379,     0.79479,      0.7958,      0.7968,      0.7978,      0.7988,      0.7998,      0.8008,      0.8018,      0.8028,      0.8038,      0.8048,     0.80581,     0.80681,     0.80781,     0.80881,     0.80981,     0.81081,     0.81181,     0.81281,     0.81381,     0.81481,     0.81582,\n",
       "           0.81682,     0.81782,     0.81882,     0.81982,     0.82082,     0.82182,     0.82282,     0.82382,     0.82482,     0.82583,     0.82683,     0.82783,     0.82883,     0.82983,     0.83083,     0.83183,     0.83283,     0.83383,     0.83483,     0.83584,     0.83684,     0.83784,     0.83884,     0.83984,\n",
       "           0.84084,     0.84184,     0.84284,     0.84384,     0.84484,     0.84585,     0.84685,     0.84785,     0.84885,     0.84985,     0.85085,     0.85185,     0.85285,     0.85385,     0.85485,     0.85586,     0.85686,     0.85786,     0.85886,     0.85986,     0.86086,     0.86186,     0.86286,     0.86386,\n",
       "           0.86486,     0.86587,     0.86687,     0.86787,     0.86887,     0.86987,     0.87087,     0.87187,     0.87287,     0.87387,     0.87487,     0.87588,     0.87688,     0.87788,     0.87888,     0.87988,     0.88088,     0.88188,     0.88288,     0.88388,     0.88488,     0.88589,     0.88689,     0.88789,\n",
       "           0.88889,     0.88989,     0.89089,     0.89189,     0.89289,     0.89389,     0.89489,      0.8959,      0.8969,      0.8979,      0.8989,      0.8999,      0.9009,      0.9019,      0.9029,      0.9039,      0.9049,     0.90591,     0.90691,     0.90791,     0.90891,     0.90991,     0.91091,     0.91191,\n",
       "           0.91291,     0.91391,     0.91491,     0.91592,     0.91692,     0.91792,     0.91892,     0.91992,     0.92092,     0.92192,     0.92292,     0.92392,     0.92492,     0.92593,     0.92693,     0.92793,     0.92893,     0.92993,     0.93093,     0.93193,     0.93293,     0.93393,     0.93493,     0.93594,\n",
       "           0.93694,     0.93794,     0.93894,     0.93994,     0.94094,     0.94194,     0.94294,     0.94394,     0.94494,     0.94595,     0.94695,     0.94795,     0.94895,     0.94995,     0.95095,     0.95195,     0.95295,     0.95395,     0.95495,     0.95596,     0.95696,     0.95796,     0.95896,     0.95996,\n",
       "           0.96096,     0.96196,     0.96296,     0.96396,     0.96496,     0.96597,     0.96697,     0.96797,     0.96897,     0.96997,     0.97097,     0.97197,     0.97297,     0.97397,     0.97497,     0.97598,     0.97698,     0.97798,     0.97898,     0.97998,     0.98098,     0.98198,     0.98298,     0.98398,\n",
       "           0.98498,     0.98599,     0.98699,     0.98799,     0.98899,     0.98999,     0.99099,     0.99199,     0.99299,     0.99399,     0.99499,       0.996,       0.997,       0.998,       0.999,           1]), array([[   0.083927,    0.083927,     0.11598,     0.14186,     0.16056,     0.17701,     0.19166,     0.20518,     0.21505,     0.22485,     0.23533,     0.24513,     0.25663,     0.26443,     0.27422,     0.28116,     0.29034,     0.29463,     0.30547,     0.31305,     0.32014,     0.32772,     0.33166,\n",
       "            0.33583,     0.34215,     0.34931,     0.35474,     0.35898,     0.36643,     0.37066,     0.37315,     0.37745,     0.37985,     0.38648,     0.38964,     0.39337,     0.40005,     0.40367,     0.41251,     0.41643,     0.41969,     0.42055,     0.42372,     0.42762,      0.4296,     0.43547,\n",
       "             0.4395,     0.45513,     0.45624,     0.45936,     0.46434,     0.46748,     0.47296,     0.47671,     0.48293,     0.48497,     0.48694,     0.48976,     0.49335,     0.49633,     0.49808,     0.49913,     0.50022,     0.50148,     0.50301,     0.50761,     0.51361,     0.51474,     0.51587,\n",
       "            0.51699,      0.5181,     0.51988,     0.52226,     0.52335,     0.52443,     0.52546,      0.5288,     0.53014,     0.53269,     0.53688,     0.53784,      0.5388,     0.53976,     0.54702,     0.54854,     0.55395,     0.55742,     0.56044,     0.56261,     0.56358,     0.56454,     0.56549,\n",
       "            0.56618,     0.56687,     0.56755,     0.56824,     0.56968,     0.57875,      0.5775,     0.57695,     0.57772,     0.57849,     0.57926,     0.58002,     0.58063,     0.58117,      0.5817,     0.58224,     0.58278,     0.58332,     0.58386,     0.58876,     0.58911,     0.59017,     0.59123,\n",
       "             0.5923,     0.58992,      0.5911,     0.59227,     0.59345,     0.59857,     0.60094,     0.60593,     0.60754,     0.60914,     0.61024,      0.6113,     0.61236,     0.61769,      0.6208,     0.62526,     0.62726,     0.62886,     0.63102,     0.63466,     0.63546,     0.63627,     0.63707,\n",
       "            0.63787,     0.63868,     0.63859,     0.63818,     0.63778,     0.63737,     0.63697,     0.63656,     0.64325,      0.6459,     0.64685,     0.64779,     0.64874,     0.64968,     0.65067,     0.65168,     0.65269,      0.6537,     0.65476,     0.65775,     0.65983,     0.66074,     0.66166,\n",
       "            0.66258,      0.6635,      0.6646,     0.66642,     0.66824,     0.66934,     0.66977,     0.67019,     0.67062,     0.67105,     0.67148,     0.67191,     0.67233,     0.67276,     0.67319,     0.67362,     0.67404,     0.67545,     0.67692,     0.67839,     0.68127,     0.68436,     0.68484,\n",
       "            0.68533,     0.68582,     0.68631,      0.6868,     0.68729,     0.68778,     0.68826,     0.68875,     0.68924,     0.69088,     0.69304,     0.69482,     0.69547,     0.69613,     0.69678,     0.69744,     0.69809,     0.69874,      0.6994,     0.70004,     0.70054,     0.70104,     0.70154,\n",
       "            0.70204,     0.70254,     0.70304,     0.70354,     0.70404,     0.70454,     0.70504,     0.70563,     0.70656,     0.70748,      0.7084,     0.70932,     0.71025,     0.71284,     0.71804,     0.72096,     0.72254,      0.7231,     0.72365,     0.72421,     0.72477,     0.72532,     0.72588,\n",
       "            0.72644,       0.727,     0.72755,     0.72814,     0.72884,     0.72954,     0.73023,     0.73093,     0.73163,     0.73233,     0.73302,     0.73372,     0.73479,     0.73595,     0.73712,     0.73828,     0.73945,     0.74259,     0.74614,     0.74735,     0.74855,     0.74975,     0.75096,\n",
       "            0.75213,     0.75291,     0.75369,     0.75446,     0.75524,     0.75602,      0.7568,     0.75758,     0.75838,     0.76002,     0.76165,     0.76328,     0.76527,      0.7697,     0.77257,     0.77465,     0.77673,     0.77826,     0.77925,     0.78023,     0.78121,     0.78219,     0.78317,\n",
       "            0.78415,     0.78416,     0.78368,      0.7832,     0.78272,     0.78354,     0.78477,     0.78599,     0.78721,     0.78844,     0.78973,     0.79142,      0.7931,     0.79479,     0.79647,     0.79801,     0.79954,     0.80107,     0.80261,     0.80403,     0.80527,     0.80651,     0.80774,\n",
       "            0.80898,     0.81022,     0.81029,     0.80928,     0.81156,     0.81461,     0.81631,     0.81578,     0.81524,     0.81491,     0.81538,     0.81586,     0.81633,      0.8168,     0.81728,     0.81775,     0.81822,      0.8187,     0.81917,     0.81964,     0.82011,     0.82059,     0.82106,\n",
       "            0.82153,     0.82201,     0.82249,     0.82309,     0.82369,     0.82429,     0.82489,     0.82549,     0.82609,     0.82669,     0.82729,      0.8279,      0.8285,      0.8291,      0.8297,     0.83024,     0.83055,     0.83086,     0.83116,     0.83147,     0.83177,     0.83208,     0.83238,\n",
       "            0.83269,       0.833,      0.8333,     0.83361,     0.83391,     0.83422,     0.83452,     0.83483,     0.83514,     0.83544,     0.83575,     0.83605,     0.83636,     0.83667,     0.83697,     0.83728,     0.83758,     0.83789,       0.838,     0.83771,     0.83742,     0.83713,     0.83684,\n",
       "            0.83655,     0.84453,     0.84378,     0.84377,     0.84605,     0.84833,     0.85062,     0.85101,     0.85025,      0.8509,     0.85226,     0.85361,     0.85497,     0.85632,     0.85767,     0.85852,     0.85832,     0.85813,     0.85793,     0.85773,     0.85754,     0.85734,     0.85567,\n",
       "            0.85581,     0.85595,     0.85609,     0.85622,     0.85636,      0.8565,     0.85664,     0.85677,     0.85691,     0.85705,     0.85719,     0.85733,     0.85746,      0.8576,     0.85774,     0.85788,     0.85802,     0.85815,     0.85829,     0.85843,     0.85857,     0.85871,     0.85884,\n",
       "            0.85898,     0.85912,     0.85926,     0.85939,     0.85953,     0.85967,     0.85981,     0.85995,     0.86008,     0.86022,     0.86036,      0.8605,     0.86064,     0.86077,     0.86091,     0.86105,     0.86119,     0.86133,     0.86146,      0.8616,     0.86174,     0.86188,     0.86202,\n",
       "            0.86215,     0.86229,     0.86243,     0.86257,      0.8627,     0.86284,     0.86298,     0.86312,     0.86326,     0.86339,     0.86353,     0.86367,     0.86381,     0.86395,     0.86408,     0.86422,     0.86436,      0.8645,     0.86488,     0.86565,     0.86643,     0.86721,     0.86799,\n",
       "            0.86876,     0.86954,     0.87032,      0.8711,     0.87187,     0.87265,     0.87343,     0.87322,     0.87253,     0.87464,     0.87785,     0.88105,     0.88165,     0.88155,     0.88146,     0.88136,     0.88127,     0.88118,     0.88108,     0.88099,     0.88089,      0.8808,      0.8807,\n",
       "            0.88061,     0.88052,     0.88052,     0.88114,     0.88176,     0.88238,       0.883,     0.88362,     0.88424,     0.88486,     0.88548,      0.8861,     0.88672,     0.88734,     0.88796,     0.88858,      0.8892,     0.88982,     0.89077,     0.89204,     0.89331,     0.89458,     0.89584,\n",
       "            0.89711,     0.89838,     0.89964,     0.90832,     0.90788,     0.90766,     0.90744,     0.90723,     0.90701,     0.90692,     0.90686,      0.9068,     0.90674,     0.90667,     0.90661,     0.90655,     0.90649,     0.90642,     0.90636,      0.9063,     0.90624,     0.90617,     0.90611,\n",
       "            0.90605,     0.90599,     0.90593,     0.90581,     0.90558,     0.90535,     0.90512,     0.90489,     0.90556,     0.90742,     0.90928,     0.91115,     0.91301,     0.91487,      0.9156,      0.9155,     0.91539,     0.91529,     0.91518,     0.91507,     0.91497,     0.91486,     0.91476,\n",
       "            0.91465,     0.91313,     0.91257,     0.91235,     0.91217,       0.912,     0.91182,     0.91165,     0.91148,     0.91129,      0.9111,      0.9109,     0.91071,     0.91051,     0.91032,      0.9184,     0.92203,     0.92196,      0.9219,     0.92183,     0.92176,     0.92169,     0.92162,\n",
       "            0.92156,     0.92149,     0.92142,     0.92135,     0.92128,     0.92122,     0.92115,     0.92108,     0.91984,     0.91956,     0.91929,     0.91901,     0.91888,     0.91883,     0.91877,     0.91871,     0.91866,      0.9186,     0.91855,     0.91849,     0.91844,     0.91838,     0.91833,\n",
       "            0.91827,     0.91822,     0.91816,      0.9181,     0.91805,     0.91799,     0.91794,     0.91788,     0.91783,     0.92367,      0.9305,     0.93025,        0.93,     0.92975,     0.92954,      0.9294,     0.92926,     0.92912,     0.92899,     0.92885,     0.92871,     0.92857,     0.92805,\n",
       "            0.92646,     0.92631,     0.92616,     0.92601,     0.92586,     0.92571,     0.92556,     0.92541,     0.92454,     0.92408,     0.92386,     0.92365,     0.92343,     0.92321,     0.92871,     0.93747,     0.93739,     0.93732,     0.93724,     0.93717,     0.93709,     0.93702,     0.93694,\n",
       "            0.93687,     0.93679,     0.93672,     0.93664,     0.93657,      0.9365,     0.93646,     0.93642,     0.93639,     0.93635,     0.93631,     0.93627,     0.93624,      0.9362,     0.93616,     0.93612,     0.93609,     0.93605,     0.93601,     0.93597,     0.93594,      0.9359,     0.93586,\n",
       "            0.93582,     0.93579,     0.93575,     0.93571,     0.93567,     0.93564,      0.9356,     0.93556,     0.93552,     0.93549,     0.93439,      0.9343,     0.93421,     0.93412,     0.93403,     0.93394,     0.93385,     0.93376,     0.93367,     0.93358,     0.93349,      0.9334,     0.93443,\n",
       "            0.93906,     0.94369,     0.94833,     0.96456,     0.96424,      0.9641,     0.96397,     0.96384,     0.96371,     0.96342,     0.96296,      0.9626,     0.96226,     0.96217,     0.96207,     0.96198,     0.96189,     0.96179,      0.9617,     0.96161,     0.96144,     0.96105,     0.96076,\n",
       "            0.96069,     0.96062,     0.96054,     0.96047,      0.9604,     0.96032,     0.96025,     0.96018,      0.9601,     0.96003,     0.95976,     0.95934,     0.95882,     0.95831,     0.95816,     0.95801,     0.95785,      0.9577,     0.95755,     0.95934,     0.96544,     0.97153,     0.97763,\n",
       "            0.97695,     0.97666,     0.97647,     0.97628,     0.97599,      0.9756,     0.97546,     0.97533,     0.97519,     0.97505,     0.97486,     0.97464,     0.97442,     0.97429,      0.9742,     0.97411,     0.97402,     0.97392,     0.97383,     0.97374,     0.97276,     0.97225,     0.97607,\n",
       "            0.98013,      0.9842,     0.98827,     0.99234,     0.99641,           1,           1,           1,           1,           1,           1,           1,           1,           1,           1,           1,           1,           1,           1,           1,           1,           1,           1,\n",
       "                  1,           1,           1,           1,           1,           1,           1,           1,           1,           1,           1,           1,           1,           1,           1,           1,           1,           1,           1,           1,           1,           1,           1,\n",
       "                  1,           1,           1,           1,           1,           1,           1,           1,           1,           1,           1,           1,           1,           1,           1,           1,           1,           1,           1,           1,           1,           1,           1,\n",
       "                  1,           1,           1,           1,           1,           1,           1,           1,           1,           1,           1,           1,           1,           1,           1,           1,           1,           1,           1,           1,           1,           1,           1,\n",
       "                  1,           1,           1,           1,           1,           1,           1,           1,           1,           1,           1,           1,           1,           1,           1,           1,           1,           1,           1,           1,           1,           1,           1,\n",
       "                  1,           1,           1,           1,           1,           1,           1,           1,           1,           1,           1,           1,           1,           1,           1,           1,           1,           1,           1,           1,           1,           1,           1,\n",
       "                  1,           1,           1,           1,           1,           1,           1,           1,           1,           1,           1,           1,           1,           1,           1,           1,           1,           1,           1,           1,           1,           1,           1,\n",
       "                  1,           1,           1,           1,           1,           1,           1,           1,           1,           1,           1,           1,           1,           1,           1,           1,           1,           1,           1,           1,           1,           1,           1,\n",
       "                  1,           1,           1,           1,           1,           1,           1,           1,           1,           1,           1,           1,           1,           1,           1,           1,           1,           1,           1,           1,           1,           1,           1,\n",
       "                  1,           1,           1,           1,           1,           1,           1,           1,           1,           1,           1,           1,           1,           1,           1,           1,           1,           1,           1,           1,           1,           1,           1,\n",
       "                  1,           1,           1,           1,           1,           1,           1,           1,           1,           1,           1]]), 'Confidence', 'Precision'], [array([          0,    0.001001,    0.002002,    0.003003,    0.004004,    0.005005,    0.006006,    0.007007,    0.008008,    0.009009,     0.01001,    0.011011,    0.012012,    0.013013,    0.014014,    0.015015,    0.016016,    0.017017,    0.018018,    0.019019,     0.02002,    0.021021,    0.022022,    0.023023,\n",
       "          0.024024,    0.025025,    0.026026,    0.027027,    0.028028,    0.029029,     0.03003,    0.031031,    0.032032,    0.033033,    0.034034,    0.035035,    0.036036,    0.037037,    0.038038,    0.039039,     0.04004,    0.041041,    0.042042,    0.043043,    0.044044,    0.045045,    0.046046,    0.047047,\n",
       "          0.048048,    0.049049,     0.05005,    0.051051,    0.052052,    0.053053,    0.054054,    0.055055,    0.056056,    0.057057,    0.058058,    0.059059,     0.06006,    0.061061,    0.062062,    0.063063,    0.064064,    0.065065,    0.066066,    0.067067,    0.068068,    0.069069,     0.07007,    0.071071,\n",
       "          0.072072,    0.073073,    0.074074,    0.075075,    0.076076,    0.077077,    0.078078,    0.079079,     0.08008,    0.081081,    0.082082,    0.083083,    0.084084,    0.085085,    0.086086,    0.087087,    0.088088,    0.089089,     0.09009,    0.091091,    0.092092,    0.093093,    0.094094,    0.095095,\n",
       "          0.096096,    0.097097,    0.098098,    0.099099,      0.1001,      0.1011,      0.1021,      0.1031,      0.1041,     0.10511,     0.10611,     0.10711,     0.10811,     0.10911,     0.11011,     0.11111,     0.11211,     0.11311,     0.11411,     0.11512,     0.11612,     0.11712,     0.11812,     0.11912,\n",
       "           0.12012,     0.12112,     0.12212,     0.12312,     0.12412,     0.12513,     0.12613,     0.12713,     0.12813,     0.12913,     0.13013,     0.13113,     0.13213,     0.13313,     0.13413,     0.13514,     0.13614,     0.13714,     0.13814,     0.13914,     0.14014,     0.14114,     0.14214,     0.14314,\n",
       "           0.14414,     0.14515,     0.14615,     0.14715,     0.14815,     0.14915,     0.15015,     0.15115,     0.15215,     0.15315,     0.15415,     0.15516,     0.15616,     0.15716,     0.15816,     0.15916,     0.16016,     0.16116,     0.16216,     0.16316,     0.16416,     0.16517,     0.16617,     0.16717,\n",
       "           0.16817,     0.16917,     0.17017,     0.17117,     0.17217,     0.17317,     0.17417,     0.17518,     0.17618,     0.17718,     0.17818,     0.17918,     0.18018,     0.18118,     0.18218,     0.18318,     0.18418,     0.18519,     0.18619,     0.18719,     0.18819,     0.18919,     0.19019,     0.19119,\n",
       "           0.19219,     0.19319,     0.19419,      0.1952,      0.1962,      0.1972,      0.1982,      0.1992,      0.2002,      0.2012,      0.2022,      0.2032,      0.2042,     0.20521,     0.20621,     0.20721,     0.20821,     0.20921,     0.21021,     0.21121,     0.21221,     0.21321,     0.21421,     0.21522,\n",
       "           0.21622,     0.21722,     0.21822,     0.21922,     0.22022,     0.22122,     0.22222,     0.22322,     0.22422,     0.22523,     0.22623,     0.22723,     0.22823,     0.22923,     0.23023,     0.23123,     0.23223,     0.23323,     0.23423,     0.23524,     0.23624,     0.23724,     0.23824,     0.23924,\n",
       "           0.24024,     0.24124,     0.24224,     0.24324,     0.24424,     0.24525,     0.24625,     0.24725,     0.24825,     0.24925,     0.25025,     0.25125,     0.25225,     0.25325,     0.25425,     0.25526,     0.25626,     0.25726,     0.25826,     0.25926,     0.26026,     0.26126,     0.26226,     0.26326,\n",
       "           0.26426,     0.26527,     0.26627,     0.26727,     0.26827,     0.26927,     0.27027,     0.27127,     0.27227,     0.27327,     0.27427,     0.27528,     0.27628,     0.27728,     0.27828,     0.27928,     0.28028,     0.28128,     0.28228,     0.28328,     0.28428,     0.28529,     0.28629,     0.28729,\n",
       "           0.28829,     0.28929,     0.29029,     0.29129,     0.29229,     0.29329,     0.29429,      0.2953,      0.2963,      0.2973,      0.2983,      0.2993,      0.3003,      0.3013,      0.3023,      0.3033,      0.3043,     0.30531,     0.30631,     0.30731,     0.30831,     0.30931,     0.31031,     0.31131,\n",
       "           0.31231,     0.31331,     0.31431,     0.31532,     0.31632,     0.31732,     0.31832,     0.31932,     0.32032,     0.32132,     0.32232,     0.32332,     0.32432,     0.32533,     0.32633,     0.32733,     0.32833,     0.32933,     0.33033,     0.33133,     0.33233,     0.33333,     0.33433,     0.33534,\n",
       "           0.33634,     0.33734,     0.33834,     0.33934,     0.34034,     0.34134,     0.34234,     0.34334,     0.34434,     0.34535,     0.34635,     0.34735,     0.34835,     0.34935,     0.35035,     0.35135,     0.35235,     0.35335,     0.35435,     0.35536,     0.35636,     0.35736,     0.35836,     0.35936,\n",
       "           0.36036,     0.36136,     0.36236,     0.36336,     0.36436,     0.36537,     0.36637,     0.36737,     0.36837,     0.36937,     0.37037,     0.37137,     0.37237,     0.37337,     0.37437,     0.37538,     0.37638,     0.37738,     0.37838,     0.37938,     0.38038,     0.38138,     0.38238,     0.38338,\n",
       "           0.38438,     0.38539,     0.38639,     0.38739,     0.38839,     0.38939,     0.39039,     0.39139,     0.39239,     0.39339,     0.39439,      0.3954,      0.3964,      0.3974,      0.3984,      0.3994,      0.4004,      0.4014,      0.4024,      0.4034,      0.4044,     0.40541,     0.40641,     0.40741,\n",
       "           0.40841,     0.40941,     0.41041,     0.41141,     0.41241,     0.41341,     0.41441,     0.41542,     0.41642,     0.41742,     0.41842,     0.41942,     0.42042,     0.42142,     0.42242,     0.42342,     0.42442,     0.42543,     0.42643,     0.42743,     0.42843,     0.42943,     0.43043,     0.43143,\n",
       "           0.43243,     0.43343,     0.43443,     0.43544,     0.43644,     0.43744,     0.43844,     0.43944,     0.44044,     0.44144,     0.44244,     0.44344,     0.44444,     0.44545,     0.44645,     0.44745,     0.44845,     0.44945,     0.45045,     0.45145,     0.45245,     0.45345,     0.45445,     0.45546,\n",
       "           0.45646,     0.45746,     0.45846,     0.45946,     0.46046,     0.46146,     0.46246,     0.46346,     0.46446,     0.46547,     0.46647,     0.46747,     0.46847,     0.46947,     0.47047,     0.47147,     0.47247,     0.47347,     0.47447,     0.47548,     0.47648,     0.47748,     0.47848,     0.47948,\n",
       "           0.48048,     0.48148,     0.48248,     0.48348,     0.48448,     0.48549,     0.48649,     0.48749,     0.48849,     0.48949,     0.49049,     0.49149,     0.49249,     0.49349,     0.49449,      0.4955,      0.4965,      0.4975,      0.4985,      0.4995,      0.5005,      0.5015,      0.5025,      0.5035,\n",
       "            0.5045,     0.50551,     0.50651,     0.50751,     0.50851,     0.50951,     0.51051,     0.51151,     0.51251,     0.51351,     0.51451,     0.51552,     0.51652,     0.51752,     0.51852,     0.51952,     0.52052,     0.52152,     0.52252,     0.52352,     0.52452,     0.52553,     0.52653,     0.52753,\n",
       "           0.52853,     0.52953,     0.53053,     0.53153,     0.53253,     0.53353,     0.53453,     0.53554,     0.53654,     0.53754,     0.53854,     0.53954,     0.54054,     0.54154,     0.54254,     0.54354,     0.54454,     0.54555,     0.54655,     0.54755,     0.54855,     0.54955,     0.55055,     0.55155,\n",
       "           0.55255,     0.55355,     0.55455,     0.55556,     0.55656,     0.55756,     0.55856,     0.55956,     0.56056,     0.56156,     0.56256,     0.56356,     0.56456,     0.56557,     0.56657,     0.56757,     0.56857,     0.56957,     0.57057,     0.57157,     0.57257,     0.57357,     0.57457,     0.57558,\n",
       "           0.57658,     0.57758,     0.57858,     0.57958,     0.58058,     0.58158,     0.58258,     0.58358,     0.58458,     0.58559,     0.58659,     0.58759,     0.58859,     0.58959,     0.59059,     0.59159,     0.59259,     0.59359,     0.59459,      0.5956,      0.5966,      0.5976,      0.5986,      0.5996,\n",
       "            0.6006,      0.6016,      0.6026,      0.6036,      0.6046,     0.60561,     0.60661,     0.60761,     0.60861,     0.60961,     0.61061,     0.61161,     0.61261,     0.61361,     0.61461,     0.61562,     0.61662,     0.61762,     0.61862,     0.61962,     0.62062,     0.62162,     0.62262,     0.62362,\n",
       "           0.62462,     0.62563,     0.62663,     0.62763,     0.62863,     0.62963,     0.63063,     0.63163,     0.63263,     0.63363,     0.63463,     0.63564,     0.63664,     0.63764,     0.63864,     0.63964,     0.64064,     0.64164,     0.64264,     0.64364,     0.64464,     0.64565,     0.64665,     0.64765,\n",
       "           0.64865,     0.64965,     0.65065,     0.65165,     0.65265,     0.65365,     0.65465,     0.65566,     0.65666,     0.65766,     0.65866,     0.65966,     0.66066,     0.66166,     0.66266,     0.66366,     0.66466,     0.66567,     0.66667,     0.66767,     0.66867,     0.66967,     0.67067,     0.67167,\n",
       "           0.67267,     0.67367,     0.67467,     0.67568,     0.67668,     0.67768,     0.67868,     0.67968,     0.68068,     0.68168,     0.68268,     0.68368,     0.68468,     0.68569,     0.68669,     0.68769,     0.68869,     0.68969,     0.69069,     0.69169,     0.69269,     0.69369,     0.69469,      0.6957,\n",
       "            0.6967,      0.6977,      0.6987,      0.6997,      0.7007,      0.7017,      0.7027,      0.7037,      0.7047,     0.70571,     0.70671,     0.70771,     0.70871,     0.70971,     0.71071,     0.71171,     0.71271,     0.71371,     0.71471,     0.71572,     0.71672,     0.71772,     0.71872,     0.71972,\n",
       "           0.72072,     0.72172,     0.72272,     0.72372,     0.72472,     0.72573,     0.72673,     0.72773,     0.72873,     0.72973,     0.73073,     0.73173,     0.73273,     0.73373,     0.73473,     0.73574,     0.73674,     0.73774,     0.73874,     0.73974,     0.74074,     0.74174,     0.74274,     0.74374,\n",
       "           0.74474,     0.74575,     0.74675,     0.74775,     0.74875,     0.74975,     0.75075,     0.75175,     0.75275,     0.75375,     0.75475,     0.75576,     0.75676,     0.75776,     0.75876,     0.75976,     0.76076,     0.76176,     0.76276,     0.76376,     0.76476,     0.76577,     0.76677,     0.76777,\n",
       "           0.76877,     0.76977,     0.77077,     0.77177,     0.77277,     0.77377,     0.77477,     0.77578,     0.77678,     0.77778,     0.77878,     0.77978,     0.78078,     0.78178,     0.78278,     0.78378,     0.78478,     0.78579,     0.78679,     0.78779,     0.78879,     0.78979,     0.79079,     0.79179,\n",
       "           0.79279,     0.79379,     0.79479,      0.7958,      0.7968,      0.7978,      0.7988,      0.7998,      0.8008,      0.8018,      0.8028,      0.8038,      0.8048,     0.80581,     0.80681,     0.80781,     0.80881,     0.80981,     0.81081,     0.81181,     0.81281,     0.81381,     0.81481,     0.81582,\n",
       "           0.81682,     0.81782,     0.81882,     0.81982,     0.82082,     0.82182,     0.82282,     0.82382,     0.82482,     0.82583,     0.82683,     0.82783,     0.82883,     0.82983,     0.83083,     0.83183,     0.83283,     0.83383,     0.83483,     0.83584,     0.83684,     0.83784,     0.83884,     0.83984,\n",
       "           0.84084,     0.84184,     0.84284,     0.84384,     0.84484,     0.84585,     0.84685,     0.84785,     0.84885,     0.84985,     0.85085,     0.85185,     0.85285,     0.85385,     0.85485,     0.85586,     0.85686,     0.85786,     0.85886,     0.85986,     0.86086,     0.86186,     0.86286,     0.86386,\n",
       "           0.86486,     0.86587,     0.86687,     0.86787,     0.86887,     0.86987,     0.87087,     0.87187,     0.87287,     0.87387,     0.87487,     0.87588,     0.87688,     0.87788,     0.87888,     0.87988,     0.88088,     0.88188,     0.88288,     0.88388,     0.88488,     0.88589,     0.88689,     0.88789,\n",
       "           0.88889,     0.88989,     0.89089,     0.89189,     0.89289,     0.89389,     0.89489,      0.8959,      0.8969,      0.8979,      0.8989,      0.8999,      0.9009,      0.9019,      0.9029,      0.9039,      0.9049,     0.90591,     0.90691,     0.90791,     0.90891,     0.90991,     0.91091,     0.91191,\n",
       "           0.91291,     0.91391,     0.91491,     0.91592,     0.91692,     0.91792,     0.91892,     0.91992,     0.92092,     0.92192,     0.92292,     0.92392,     0.92492,     0.92593,     0.92693,     0.92793,     0.92893,     0.92993,     0.93093,     0.93193,     0.93293,     0.93393,     0.93493,     0.93594,\n",
       "           0.93694,     0.93794,     0.93894,     0.93994,     0.94094,     0.94194,     0.94294,     0.94394,     0.94494,     0.94595,     0.94695,     0.94795,     0.94895,     0.94995,     0.95095,     0.95195,     0.95295,     0.95395,     0.95495,     0.95596,     0.95696,     0.95796,     0.95896,     0.95996,\n",
       "           0.96096,     0.96196,     0.96296,     0.96396,     0.96496,     0.96597,     0.96697,     0.96797,     0.96897,     0.96997,     0.97097,     0.97197,     0.97297,     0.97397,     0.97497,     0.97598,     0.97698,     0.97798,     0.97898,     0.97998,     0.98098,     0.98198,     0.98298,     0.98398,\n",
       "           0.98498,     0.98599,     0.98699,     0.98799,     0.98899,     0.98999,     0.99099,     0.99199,     0.99299,     0.99399,     0.99499,       0.996,       0.997,       0.998,       0.999,           1]), array([[    0.95495,     0.95495,     0.92793,     0.92793,     0.90991,     0.90991,     0.90991,      0.9009,     0.89189,     0.89189,     0.89189,     0.87387,     0.87387,     0.87387,     0.87387,     0.87387,     0.87387,     0.87387,     0.87387,     0.87387,     0.87387,     0.87387,     0.87387,\n",
       "            0.87387,     0.87387,     0.87387,     0.87387,     0.87387,     0.87387,     0.87387,     0.87387,     0.87387,     0.86486,     0.86486,     0.86486,     0.86486,     0.86486,     0.86486,     0.86486,     0.86486,     0.86486,     0.86486,     0.86486,     0.86486,     0.86486,     0.86486,\n",
       "            0.86486,     0.86486,     0.86486,     0.86486,     0.86486,     0.86486,     0.86486,     0.86486,     0.86486,     0.86486,     0.86486,     0.86486,     0.86486,     0.86486,     0.86486,     0.86486,     0.86486,     0.86486,     0.86486,     0.86486,     0.86486,     0.86486,     0.86486,\n",
       "            0.86486,     0.86486,     0.86486,     0.86486,     0.86486,     0.86486,     0.85586,     0.85586,     0.85586,     0.85586,     0.85586,     0.85586,     0.85586,     0.85586,     0.85586,     0.85586,     0.85586,     0.85586,     0.85586,     0.85586,     0.85586,     0.85586,     0.85586,\n",
       "            0.85586,     0.85586,     0.85586,     0.85586,     0.85586,     0.85404,      0.8497,     0.84685,     0.84685,     0.84685,     0.84685,     0.84685,     0.84685,     0.84685,     0.84685,     0.84685,     0.84685,     0.84685,     0.84685,     0.84685,     0.83784,     0.83784,     0.83784,\n",
       "            0.83784,     0.82883,     0.82883,     0.82883,     0.82883,     0.82883,     0.82883,     0.82883,     0.82883,     0.82883,     0.82883,     0.82883,     0.82883,     0.82883,     0.82883,     0.82883,     0.82883,     0.82883,     0.82883,     0.82883,     0.82883,     0.82883,     0.82883,\n",
       "            0.82883,     0.82883,     0.82776,     0.82632,     0.82487,     0.82342,     0.82197,     0.82052,     0.81982,     0.81982,     0.81982,     0.81982,     0.81982,     0.81982,     0.81982,     0.81982,     0.81982,     0.81982,     0.81982,     0.81982,     0.81982,     0.81982,     0.81982,\n",
       "            0.81982,     0.81982,     0.81982,     0.81982,     0.81982,     0.81982,     0.81982,     0.81982,     0.81982,     0.81982,     0.81982,     0.81982,     0.81982,     0.81982,     0.81982,     0.81982,     0.81982,     0.81982,     0.81982,     0.81982,     0.81982,     0.81982,     0.81982,\n",
       "            0.81982,     0.81982,     0.81982,     0.81982,     0.81982,     0.81982,     0.81982,     0.81982,     0.81982,     0.81982,     0.81982,     0.81982,     0.81982,     0.81982,     0.81982,     0.81982,     0.81982,     0.81982,     0.81982,     0.81982,     0.81982,     0.81982,     0.81982,\n",
       "            0.81982,     0.81982,     0.81982,     0.81982,     0.81982,     0.81982,     0.81982,     0.81982,     0.81982,     0.81982,     0.81982,     0.81982,     0.81982,     0.81982,     0.81982,     0.81982,     0.81982,     0.81982,     0.81982,     0.81982,     0.81982,     0.81982,     0.81982,\n",
       "            0.81982,     0.81982,     0.81982,     0.81982,     0.81982,     0.81982,     0.81982,     0.81982,     0.81982,     0.81982,     0.81982,     0.81982,     0.81982,     0.81982,     0.81982,     0.81982,     0.81982,     0.81982,     0.81982,     0.81982,     0.81982,     0.81982,     0.81982,\n",
       "            0.81982,     0.81982,     0.81982,     0.81982,     0.81982,     0.81982,     0.81982,     0.81982,     0.81982,     0.81982,     0.81982,     0.81982,     0.81982,     0.81982,     0.81982,     0.81982,     0.81982,     0.81982,     0.81982,     0.81982,     0.81982,     0.81982,     0.81982,\n",
       "            0.81982,     0.81828,     0.81598,     0.81367,     0.81136,     0.81081,     0.81081,     0.81081,     0.81081,     0.81081,     0.81081,     0.81081,     0.81081,     0.81081,     0.81081,     0.81081,     0.81081,     0.81081,     0.81081,     0.81081,     0.81081,     0.81081,     0.81081,\n",
       "            0.81081,     0.81081,     0.80807,     0.80279,      0.8018,      0.8018,     0.80074,      0.7979,     0.79506,     0.79279,     0.79279,     0.79279,     0.79279,     0.79279,     0.79279,     0.79279,     0.79279,     0.79279,     0.79279,     0.79279,     0.79279,     0.79279,     0.79279,\n",
       "            0.79279,     0.79279,     0.79279,     0.79279,     0.79279,     0.79279,     0.79279,     0.79279,     0.79279,     0.79279,     0.79279,     0.79279,     0.79279,     0.79279,     0.79279,     0.79279,     0.79279,     0.79279,     0.79279,     0.79279,     0.79279,     0.79279,     0.79279,\n",
       "            0.79279,     0.79279,     0.79279,     0.79279,     0.79279,     0.79279,     0.79279,     0.79279,     0.79279,     0.79279,     0.79279,     0.79279,     0.79279,     0.79279,     0.79279,     0.79279,     0.79279,     0.79279,     0.79225,     0.79057,     0.78889,     0.78721,     0.78553,\n",
       "            0.78385,     0.78378,     0.77859,     0.77477,     0.77477,     0.77477,     0.77477,     0.77192,      0.7673,     0.76577,     0.76577,     0.76577,     0.76577,     0.76577,     0.76577,     0.76536,     0.76413,      0.7629,     0.76167,     0.76044,     0.75921,     0.75798,     0.74775,\n",
       "            0.74775,     0.74775,     0.74775,     0.74775,     0.74775,     0.74775,     0.74775,     0.74775,     0.74775,     0.74775,     0.74775,     0.74775,     0.74775,     0.74775,     0.74775,     0.74775,     0.74775,     0.74775,     0.74775,     0.74775,     0.74775,     0.74775,     0.74775,\n",
       "            0.74775,     0.74775,     0.74775,     0.74775,     0.74775,     0.74775,     0.74775,     0.74775,     0.74775,     0.74775,     0.74775,     0.74775,     0.74775,     0.74775,     0.74775,     0.74775,     0.74775,     0.74775,     0.74775,     0.74775,     0.74775,     0.74775,     0.74775,\n",
       "            0.74775,     0.74775,     0.74775,     0.74775,     0.74775,     0.74775,     0.74775,     0.74775,     0.74775,     0.74775,     0.74775,     0.74775,     0.74775,     0.74775,     0.74775,     0.74775,     0.74775,     0.74775,     0.74775,     0.74775,     0.74775,     0.74775,     0.74775,\n",
       "            0.74775,     0.74775,     0.74775,     0.74775,     0.74775,     0.74775,     0.74775,     0.74465,     0.74004,     0.73874,     0.73874,     0.73874,     0.73822,     0.73756,      0.7369,     0.73624,     0.73558,     0.73492,     0.73426,      0.7336,     0.73294,     0.73228,     0.73162,\n",
       "            0.73096,      0.7303,     0.72973,     0.72973,     0.72973,     0.72973,     0.72973,     0.72973,     0.72973,     0.72973,     0.72973,     0.72973,     0.72973,     0.72973,     0.72973,     0.72973,     0.72973,     0.72973,     0.72973,     0.72973,     0.72973,     0.72973,     0.72973,\n",
       "            0.72973,     0.72973,     0.72973,     0.71407,     0.71034,     0.70849,     0.70664,      0.7048,     0.70295,     0.70226,     0.70175,     0.70123,     0.70072,     0.70021,     0.69969,     0.69918,     0.69867,     0.69815,     0.69764,     0.69713,     0.69662,      0.6961,     0.69559,\n",
       "            0.69508,     0.69456,     0.69405,     0.69313,     0.69128,     0.68944,     0.68759,     0.68574,     0.68468,     0.68468,     0.68468,     0.68468,     0.68468,     0.68468,     0.68415,     0.68323,     0.68231,     0.68138,     0.68046,     0.67954,     0.67861,     0.67769,     0.67677,\n",
       "            0.67584,     0.66289,     0.65827,     0.65643,       0.655,     0.65358,     0.65216,     0.65074,     0.64932,     0.64784,      0.6463,     0.64476,     0.64322,     0.64168,     0.64014,     0.63964,     0.63922,     0.63863,     0.63803,     0.63744,     0.63684,     0.63625,     0.63565,\n",
       "            0.63505,     0.63446,     0.63386,     0.63327,     0.63267,     0.63208,     0.63148,     0.63088,     0.62029,     0.61799,     0.61568,     0.61337,     0.61231,     0.61186,     0.61141,     0.61096,     0.61051,     0.61006,     0.60961,     0.60916,     0.60871,     0.60826,      0.6078,\n",
       "            0.60735,      0.6069,     0.60645,       0.606,     0.60555,      0.6051,     0.60465,      0.6042,     0.60375,      0.6036,     0.60312,     0.60081,      0.5985,     0.59619,     0.59422,     0.59298,     0.59175,     0.59052,     0.58929,     0.58806,     0.58683,      0.5856,     0.58101,\n",
       "            0.56752,     0.56629,     0.56506,     0.56383,     0.56259,     0.56136,     0.56013,      0.5589,     0.55189,      0.5483,     0.54662,     0.54494,     0.54326,     0.54158,     0.54054,     0.54026,     0.53958,     0.53889,     0.53821,     0.53753,     0.53684,     0.53616,     0.53547,\n",
       "            0.53479,     0.53411,     0.53342,     0.53274,     0.53205,     0.53145,     0.53112,     0.53079,     0.53046,     0.53013,      0.5298,     0.52948,     0.52915,     0.52882,     0.52849,     0.52816,     0.52783,      0.5275,     0.52717,     0.52684,     0.52651,     0.52618,     0.52585,\n",
       "            0.52552,     0.52519,     0.52486,     0.52453,      0.5242,     0.52387,     0.52354,     0.52321,     0.52288,     0.52255,     0.51319,     0.51246,     0.51172,     0.51098,     0.51024,      0.5095,     0.50876,     0.50802,     0.50728,     0.50655,     0.50581,     0.50507,      0.5045,\n",
       "             0.5045,      0.5045,      0.5045,     0.49044,     0.48582,     0.48398,     0.48213,     0.48028,     0.47844,     0.47452,     0.46839,     0.46377,     0.45938,     0.45823,     0.45707,     0.45592,     0.45477,     0.45361,     0.45246,      0.4513,     0.44924,     0.44463,     0.44118,\n",
       "            0.44034,      0.4395,     0.43866,     0.43782,     0.43698,     0.43614,      0.4353,     0.43447,     0.43363,     0.43279,     0.42976,     0.42514,     0.41956,     0.41416,     0.41262,     0.41108,     0.40954,     0.40801,     0.40647,     0.40541,     0.40541,     0.40541,     0.40541,\n",
       "            0.38187,     0.37705,     0.37397,     0.37089,     0.36626,     0.36027,     0.35822,     0.35617,     0.35412,     0.35206,     0.34934,     0.34627,     0.34319,     0.34145,     0.34022,     0.33899,     0.33776,     0.33652,     0.33529,     0.33406,     0.32181,     0.31565,     0.31532,\n",
       "            0.31532,     0.31532,     0.31532,     0.31532,     0.31532,      0.3146,     0.30844,     0.30229,     0.29613,     0.28997,     0.27481,     0.26983,     0.26815,     0.26647,     0.26479,     0.26311,     0.26143,     0.25574,     0.24958,     0.24343,     0.24186,     0.24044,     0.23902,\n",
       "             0.2376,     0.23618,     0.23476,     0.23278,     0.23047,     0.22817,     0.22586,     0.22299,     0.21991,     0.21683,     0.20573,     0.20388,     0.20204,     0.20019,     0.19834,     0.19479,      0.1911,     0.18741,     0.18371,     0.16189,     0.15574,     0.15101,     0.14731,\n",
       "            0.14284,     0.11681,     0.11496,     0.11312,     0.11127,     0.10942,     0.10633,     0.10018,     0.09783,    0.096291,    0.094752,    0.093213,    0.091674,    0.090134,    0.080554,     0.08001,    0.079467,    0.078924,    0.078381,    0.077838,    0.077294,    0.076751,    0.076208,\n",
       "           0.075665,    0.075121,    0.074578,    0.074035,    0.073492,    0.072949,    0.072405,    0.068505,     0.06281,    0.062195,    0.061579,    0.060963,    0.060348,    0.059732,    0.059116,    0.058501,    0.057885,     0.05727,    0.056654,    0.056038,    0.055423,    0.054807,    0.054191,\n",
       "           0.052619,    0.050772,    0.048926,    0.047079,    0.045232,    0.034527,    0.032848,    0.031169,     0.02949,    0.027811,    0.026753,     0.02624,    0.025727,    0.025214,    0.024701,    0.024188,    0.023675,    0.023162,    0.022649,    0.022136,    0.021623,     0.02111,    0.020597,\n",
       "           0.020084,    0.019571,    0.019058,    0.018545,    0.018032,    0.016385,    0.014706,    0.013027,    0.011348,    0.009669,           0,           0,           0,           0,           0,           0,           0,           0,           0,           0,           0,           0,           0,\n",
       "                  0,           0,           0,           0,           0,           0,           0,           0,           0,           0,           0,           0,           0,           0,           0,           0,           0,           0,           0,           0,           0,           0,           0,\n",
       "                  0,           0,           0,           0,           0,           0,           0,           0,           0,           0,           0,           0,           0,           0,           0,           0,           0,           0,           0,           0,           0,           0,           0,\n",
       "                  0,           0,           0,           0,           0,           0,           0,           0,           0,           0,           0,           0,           0,           0,           0,           0,           0,           0,           0,           0,           0,           0,           0,\n",
       "                  0,           0,           0,           0,           0,           0,           0,           0,           0,           0,           0,           0,           0,           0,           0,           0,           0,           0,           0,           0,           0,           0,           0,\n",
       "                  0,           0,           0,           0,           0,           0,           0,           0,           0,           0,           0]]), 'Confidence', 'Recall']]\n",
       "fitness: 0.46869090711440387\n",
       "keys: ['metrics/precision(B)', 'metrics/recall(B)', 'metrics/mAP50(B)', 'metrics/mAP50-95(B)']\n",
       "maps: array([    0.42885])\n",
       "names: {0: 'cigarette'}\n",
       "plot: True\n",
       "results_dict: {'metrics/precision(B)': 0.8308550629661345, 'metrics/recall(B)': 0.7927927927927928, 'metrics/mAP50(B)': 0.8272193363404905, 'metrics/mAP50-95(B)': 0.428854414978172, 'fitness': 0.46869090711440387}\n",
       "save_dir: WindowsPath('runs/detect/train')\n",
       "speed: {'preprocess': 0.23718567581864092, 'inference': 5.04769720472731, 'loss': 0.0, 'postprocess': 3.1019545890189506}\n",
       "task: 'detect'"
      ]
     },
     "execution_count": 1,
     "metadata": {},
     "output_type": "execute_result"
    }
   ],
   "source": [
    "from ultralytics import YOLO\n",
    "\n",
    "model = YOLO(\"yolov8n.pt\")  # or yolov8s.pt, etc.\n",
    "model.train(data=\"C:/Users/mamat/Documents/Penelitian Vito/CigDet-YOLO/data.yaml\", epochs=50, imgsz=250)"
   ]
  },
  {
   "cell_type": "code",
   "execution_count": 2,
   "id": "1349950f",
   "metadata": {},
   "outputs": [
    {
     "name": "stdout",
     "output_type": "stream",
     "text": [
      "\n",
      "WARNING  imgsz=[250] must be multiple of max stride 32, updating to [256]\n",
      "image 1/111 C:\\Users\\mamat\\Documents\\Penelitian Vito\\CigDet-YOLO\\images\\val\\smoking_0020.jpg: 256x256 2 cigarettes, 14.7ms\n",
      "image 2/111 C:\\Users\\mamat\\Documents\\Penelitian Vito\\CigDet-YOLO\\images\\val\\smoking_0024.jpg: 256x256 (no detections), 14.8ms\n",
      "image 3/111 C:\\Users\\mamat\\Documents\\Penelitian Vito\\CigDet-YOLO\\images\\val\\smoking_0030.jpg: 256x256 2 cigarettes, 14.1ms\n",
      "image 4/111 C:\\Users\\mamat\\Documents\\Penelitian Vito\\CigDet-YOLO\\images\\val\\smoking_0033.jpg: 256x256 1 cigarette, 16.8ms\n",
      "image 5/111 C:\\Users\\mamat\\Documents\\Penelitian Vito\\CigDet-YOLO\\images\\val\\smoking_0045.jpg: 256x256 1 cigarette, 10.7ms\n",
      "image 6/111 C:\\Users\\mamat\\Documents\\Penelitian Vito\\CigDet-YOLO\\images\\val\\smoking_0056.jpg: 256x256 1 cigarette, 13.0ms\n",
      "image 7/111 C:\\Users\\mamat\\Documents\\Penelitian Vito\\CigDet-YOLO\\images\\val\\smoking_0060.jpg: 256x256 4 cigarettes, 19.4ms\n",
      "image 8/111 C:\\Users\\mamat\\Documents\\Penelitian Vito\\CigDet-YOLO\\images\\val\\smoking_0061.jpg: 256x256 1 cigarette, 14.3ms\n",
      "image 9/111 C:\\Users\\mamat\\Documents\\Penelitian Vito\\CigDet-YOLO\\images\\val\\smoking_0063.jpg: 256x256 1 cigarette, 16.6ms\n",
      "image 10/111 C:\\Users\\mamat\\Documents\\Penelitian Vito\\CigDet-YOLO\\images\\val\\smoking_0067.jpg: 256x256 1 cigarette, 26.1ms\n",
      "image 11/111 C:\\Users\\mamat\\Documents\\Penelitian Vito\\CigDet-YOLO\\images\\val\\smoking_0068.jpg: 256x256 1 cigarette, 8.8ms\n",
      "image 12/111 C:\\Users\\mamat\\Documents\\Penelitian Vito\\CigDet-YOLO\\images\\val\\smoking_0069.jpg: 256x256 (no detections), 11.6ms\n",
      "image 13/111 C:\\Users\\mamat\\Documents\\Penelitian Vito\\CigDet-YOLO\\images\\val\\smoking_0070.jpg: 256x256 2 cigarettes, 16.9ms\n",
      "image 14/111 C:\\Users\\mamat\\Documents\\Penelitian Vito\\CigDet-YOLO\\images\\val\\smoking_0071.jpg: 256x256 1 cigarette, 16.9ms\n",
      "image 15/111 C:\\Users\\mamat\\Documents\\Penelitian Vito\\CigDet-YOLO\\images\\val\\smoking_0074.jpg: 256x256 2 cigarettes, 14.1ms\n",
      "image 16/111 C:\\Users\\mamat\\Documents\\Penelitian Vito\\CigDet-YOLO\\images\\val\\smoking_0083.jpg: 256x256 1 cigarette, 16.3ms\n",
      "image 17/111 C:\\Users\\mamat\\Documents\\Penelitian Vito\\CigDet-YOLO\\images\\val\\smoking_0089.jpg: 256x256 1 cigarette, 18.9ms\n",
      "image 18/111 C:\\Users\\mamat\\Documents\\Penelitian Vito\\CigDet-YOLO\\images\\val\\smoking_0096.jpg: 256x256 1 cigarette, 19.2ms\n",
      "image 19/111 C:\\Users\\mamat\\Documents\\Penelitian Vito\\CigDet-YOLO\\images\\val\\smoking_0100.jpg: 256x256 1 cigarette, 14.7ms\n",
      "image 20/111 C:\\Users\\mamat\\Documents\\Penelitian Vito\\CigDet-YOLO\\images\\val\\smoking_0111.jpg: 256x256 2 cigarettes, 14.7ms\n",
      "image 21/111 C:\\Users\\mamat\\Documents\\Penelitian Vito\\CigDet-YOLO\\images\\val\\smoking_0122.jpg: 256x256 2 cigarettes, 14.7ms\n",
      "image 22/111 C:\\Users\\mamat\\Documents\\Penelitian Vito\\CigDet-YOLO\\images\\val\\smoking_0132.jpg: 256x256 1 cigarette, 20.1ms\n",
      "image 23/111 C:\\Users\\mamat\\Documents\\Penelitian Vito\\CigDet-YOLO\\images\\val\\smoking_0144.jpg: 256x256 2 cigarettes, 12.8ms\n",
      "image 24/111 C:\\Users\\mamat\\Documents\\Penelitian Vito\\CigDet-YOLO\\images\\val\\smoking_0154.jpg: 256x256 1 cigarette, 13.7ms\n",
      "image 25/111 C:\\Users\\mamat\\Documents\\Penelitian Vito\\CigDet-YOLO\\images\\val\\smoking_0160.jpg: 256x256 1 cigarette, 16.8ms\n",
      "image 26/111 C:\\Users\\mamat\\Documents\\Penelitian Vito\\CigDet-YOLO\\images\\val\\smoking_0172.jpg: 256x256 1 cigarette, 51.9ms\n",
      "image 27/111 C:\\Users\\mamat\\Documents\\Penelitian Vito\\CigDet-YOLO\\images\\val\\smoking_0177.jpg: 256x256 1 cigarette, 36.0ms\n",
      "image 28/111 C:\\Users\\mamat\\Documents\\Penelitian Vito\\CigDet-YOLO\\images\\val\\smoking_0182.jpg: 256x256 1 cigarette, 12.1ms\n",
      "image 29/111 C:\\Users\\mamat\\Documents\\Penelitian Vito\\CigDet-YOLO\\images\\val\\smoking_0189.jpg: 256x256 2 cigarettes, 8.6ms\n",
      "image 30/111 C:\\Users\\mamat\\Documents\\Penelitian Vito\\CigDet-YOLO\\images\\val\\smoking_0192.jpg: 256x256 1 cigarette, 17.9ms\n",
      "image 31/111 C:\\Users\\mamat\\Documents\\Penelitian Vito\\CigDet-YOLO\\images\\val\\smoking_0196.jpg: 256x256 1 cigarette, 17.1ms\n",
      "image 32/111 C:\\Users\\mamat\\Documents\\Penelitian Vito\\CigDet-YOLO\\images\\val\\smoking_0205.jpg: 256x256 1 cigarette, 16.4ms\n",
      "image 33/111 C:\\Users\\mamat\\Documents\\Penelitian Vito\\CigDet-YOLO\\images\\val\\smoking_0210.jpg: 256x256 2 cigarettes, 10.1ms\n",
      "image 34/111 C:\\Users\\mamat\\Documents\\Penelitian Vito\\CigDet-YOLO\\images\\val\\smoking_0217.jpg: 256x256 2 cigarettes, 17.1ms\n",
      "image 35/111 C:\\Users\\mamat\\Documents\\Penelitian Vito\\CigDet-YOLO\\images\\val\\smoking_0218.jpg: 256x256 1 cigarette, 2.9ms\n",
      "image 36/111 C:\\Users\\mamat\\Documents\\Penelitian Vito\\CigDet-YOLO\\images\\val\\smoking_0222.jpg: 256x256 1 cigarette, 15.7ms\n",
      "image 37/111 C:\\Users\\mamat\\Documents\\Penelitian Vito\\CigDet-YOLO\\images\\val\\smoking_0234.jpg: 256x256 1 cigarette, 19.7ms\n",
      "image 38/111 C:\\Users\\mamat\\Documents\\Penelitian Vito\\CigDet-YOLO\\images\\val\\smoking_0237.jpg: 256x256 2 cigarettes, 15.1ms\n",
      "image 39/111 C:\\Users\\mamat\\Documents\\Penelitian Vito\\CigDet-YOLO\\images\\val\\smoking_0241.jpg: 256x256 1 cigarette, 12.7ms\n",
      "image 40/111 C:\\Users\\mamat\\Documents\\Penelitian Vito\\CigDet-YOLO\\images\\val\\smoking_0244.jpg: 256x256 1 cigarette, 7.0ms\n",
      "image 41/111 C:\\Users\\mamat\\Documents\\Penelitian Vito\\CigDet-YOLO\\images\\val\\smoking_0254.jpg: 256x256 (no detections), 10.9ms\n",
      "image 42/111 C:\\Users\\mamat\\Documents\\Penelitian Vito\\CigDet-YOLO\\images\\val\\smoking_0260.jpg: 256x256 1 cigarette, 15.6ms\n",
      "image 43/111 C:\\Users\\mamat\\Documents\\Penelitian Vito\\CigDet-YOLO\\images\\val\\smoking_0277.jpg: 256x256 3 cigarettes, 16.3ms\n",
      "image 44/111 C:\\Users\\mamat\\Documents\\Penelitian Vito\\CigDet-YOLO\\images\\val\\smoking_0287.jpg: 256x256 1 cigarette, 15.8ms\n",
      "image 45/111 C:\\Users\\mamat\\Documents\\Penelitian Vito\\CigDet-YOLO\\images\\val\\smoking_0291.jpg: 256x256 3 cigarettes, 22.0ms\n",
      "image 46/111 C:\\Users\\mamat\\Documents\\Penelitian Vito\\CigDet-YOLO\\images\\val\\smoking_0292.jpg: 256x256 1 cigarette, 7.4ms\n",
      "image 47/111 C:\\Users\\mamat\\Documents\\Penelitian Vito\\CigDet-YOLO\\images\\val\\smoking_0298.jpg: 256x256 1 cigarette, 20.7ms\n",
      "image 48/111 C:\\Users\\mamat\\Documents\\Penelitian Vito\\CigDet-YOLO\\images\\val\\smoking_0308.jpg: 256x256 1 cigarette, 13.7ms\n",
      "image 49/111 C:\\Users\\mamat\\Documents\\Penelitian Vito\\CigDet-YOLO\\images\\val\\smoking_0321.jpg: 256x256 1 cigarette, 17.2ms\n",
      "image 50/111 C:\\Users\\mamat\\Documents\\Penelitian Vito\\CigDet-YOLO\\images\\val\\smoking_0325.jpg: 256x256 1 cigarette, 12.8ms\n",
      "image 51/111 C:\\Users\\mamat\\Documents\\Penelitian Vito\\CigDet-YOLO\\images\\val\\smoking_0330.jpg: 256x256 1 cigarette, 18.8ms\n",
      "image 52/111 C:\\Users\\mamat\\Documents\\Penelitian Vito\\CigDet-YOLO\\images\\val\\smoking_0334.jpg: 256x256 1 cigarette, 23.0ms\n",
      "image 53/111 C:\\Users\\mamat\\Documents\\Penelitian Vito\\CigDet-YOLO\\images\\val\\smoking_0339.jpg: 256x256 1 cigarette, 14.9ms\n",
      "image 54/111 C:\\Users\\mamat\\Documents\\Penelitian Vito\\CigDet-YOLO\\images\\val\\smoking_0340.jpg: 256x256 1 cigarette, 5.4ms\n",
      "image 55/111 C:\\Users\\mamat\\Documents\\Penelitian Vito\\CigDet-YOLO\\images\\val\\smoking_0342.jpg: 256x256 1 cigarette, 15.0ms\n",
      "image 56/111 C:\\Users\\mamat\\Documents\\Penelitian Vito\\CigDet-YOLO\\images\\val\\smoking_0346.jpg: 256x256 2 cigarettes, 18.7ms\n",
      "image 57/111 C:\\Users\\mamat\\Documents\\Penelitian Vito\\CigDet-YOLO\\images\\val\\smoking_0349.jpg: 256x256 1 cigarette, 21.3ms\n",
      "image 58/111 C:\\Users\\mamat\\Documents\\Penelitian Vito\\CigDet-YOLO\\images\\val\\smoking_0352.jpg: 256x256 1 cigarette, 15.7ms\n",
      "image 59/111 C:\\Users\\mamat\\Documents\\Penelitian Vito\\CigDet-YOLO\\images\\val\\smoking_0361.jpg: 256x256 1 cigarette, 24.9ms\n",
      "image 60/111 C:\\Users\\mamat\\Documents\\Penelitian Vito\\CigDet-YOLO\\images\\val\\smoking_0369.jpg: 256x256 2 cigarettes, 15.5ms\n",
      "image 61/111 C:\\Users\\mamat\\Documents\\Penelitian Vito\\CigDet-YOLO\\images\\val\\smoking_0374.jpg: 256x256 1 cigarette, 14.7ms\n",
      "image 62/111 C:\\Users\\mamat\\Documents\\Penelitian Vito\\CigDet-YOLO\\images\\val\\smoking_0375.jpg: 256x256 1 cigarette, 14.8ms\n",
      "image 63/111 C:\\Users\\mamat\\Documents\\Penelitian Vito\\CigDet-YOLO\\images\\val\\smoking_0381.jpg: 256x256 1 cigarette, 23.2ms\n",
      "image 64/111 C:\\Users\\mamat\\Documents\\Penelitian Vito\\CigDet-YOLO\\images\\val\\smoking_0385.jpg: 256x256 1 cigarette, 13.9ms\n",
      "image 65/111 C:\\Users\\mamat\\Documents\\Penelitian Vito\\CigDet-YOLO\\images\\val\\smoking_0391.jpg: 256x256 (no detections), 18.6ms\n",
      "image 66/111 C:\\Users\\mamat\\Documents\\Penelitian Vito\\CigDet-YOLO\\images\\val\\smoking_0397.jpg: 256x256 1 cigarette, 15.1ms\n",
      "image 67/111 C:\\Users\\mamat\\Documents\\Penelitian Vito\\CigDet-YOLO\\images\\val\\smoking_0403.jpg: 256x256 1 cigarette, 19.3ms\n",
      "image 68/111 C:\\Users\\mamat\\Documents\\Penelitian Vito\\CigDet-YOLO\\images\\val\\smoking_0407.jpg: 256x256 1 cigarette, 19.9ms\n",
      "image 69/111 C:\\Users\\mamat\\Documents\\Penelitian Vito\\CigDet-YOLO\\images\\val\\smoking_0409.jpg: 256x256 1 cigarette, 9.2ms\n",
      "image 70/111 C:\\Users\\mamat\\Documents\\Penelitian Vito\\CigDet-YOLO\\images\\val\\smoking_0412.jpg: 256x256 (no detections), 17.4ms\n",
      "image 71/111 C:\\Users\\mamat\\Documents\\Penelitian Vito\\CigDet-YOLO\\images\\val\\smoking_0413.jpg: 256x256 1 cigarette, 22.4ms\n",
      "image 72/111 C:\\Users\\mamat\\Documents\\Penelitian Vito\\CigDet-YOLO\\images\\val\\smoking_0423.jpg: 256x256 1 cigarette, 17.0ms\n",
      "image 73/111 C:\\Users\\mamat\\Documents\\Penelitian Vito\\CigDet-YOLO\\images\\val\\smoking_0425.jpg: 256x256 1 cigarette, 28.0ms\n",
      "image 74/111 C:\\Users\\mamat\\Documents\\Penelitian Vito\\CigDet-YOLO\\images\\val\\smoking_0426.jpg: 256x256 1 cigarette, 10.3ms\n",
      "image 75/111 C:\\Users\\mamat\\Documents\\Penelitian Vito\\CigDet-YOLO\\images\\val\\smoking_0429.jpg: 256x256 1 cigarette, 12.7ms\n",
      "image 76/111 C:\\Users\\mamat\\Documents\\Penelitian Vito\\CigDet-YOLO\\images\\val\\smoking_0437.jpg: 256x256 (no detections), 31.7ms\n",
      "image 77/111 C:\\Users\\mamat\\Documents\\Penelitian Vito\\CigDet-YOLO\\images\\val\\smoking_0441.jpg: 256x256 1 cigarette, 13.9ms\n",
      "image 78/111 C:\\Users\\mamat\\Documents\\Penelitian Vito\\CigDet-YOLO\\images\\val\\smoking_0443.jpg: 256x256 1 cigarette, 2.1ms\n",
      "image 79/111 C:\\Users\\mamat\\Documents\\Penelitian Vito\\CigDet-YOLO\\images\\val\\smoking_0446.jpg: 256x256 1 cigarette, 17.3ms\n",
      "image 80/111 C:\\Users\\mamat\\Documents\\Penelitian Vito\\CigDet-YOLO\\images\\val\\smoking_0447.jpg: 256x256 1 cigarette, 12.5ms\n",
      "image 81/111 C:\\Users\\mamat\\Documents\\Penelitian Vito\\CigDet-YOLO\\images\\val\\smoking_0451.jpg: 256x256 1 cigarette, 5.9ms\n",
      "image 82/111 C:\\Users\\mamat\\Documents\\Penelitian Vito\\CigDet-YOLO\\images\\val\\smoking_0457.jpg: 256x256 1 cigarette, 11.1ms\n",
      "image 83/111 C:\\Users\\mamat\\Documents\\Penelitian Vito\\CigDet-YOLO\\images\\val\\smoking_0464.jpg: 256x256 1 cigarette, 17.4ms\n",
      "image 84/111 C:\\Users\\mamat\\Documents\\Penelitian Vito\\CigDet-YOLO\\images\\val\\smoking_0469.jpg: 256x256 1 cigarette, 11.0ms\n",
      "image 85/111 C:\\Users\\mamat\\Documents\\Penelitian Vito\\CigDet-YOLO\\images\\val\\smoking_0471.jpg: 256x256 2 cigarettes, 13.7ms\n",
      "image 86/111 C:\\Users\\mamat\\Documents\\Penelitian Vito\\CigDet-YOLO\\images\\val\\smoking_0472.jpg: 256x256 3 cigarettes, 17.1ms\n",
      "image 87/111 C:\\Users\\mamat\\Documents\\Penelitian Vito\\CigDet-YOLO\\images\\val\\smoking_0474.jpg: 256x256 1 cigarette, 15.5ms\n",
      "image 88/111 C:\\Users\\mamat\\Documents\\Penelitian Vito\\CigDet-YOLO\\images\\val\\smoking_0477.jpg: 256x256 1 cigarette, 17.9ms\n",
      "image 89/111 C:\\Users\\mamat\\Documents\\Penelitian Vito\\CigDet-YOLO\\images\\val\\smoking_0479.jpg: 256x256 1 cigarette, 17.1ms\n",
      "image 90/111 C:\\Users\\mamat\\Documents\\Penelitian Vito\\CigDet-YOLO\\images\\val\\smoking_0482.jpg: 256x256 1 cigarette, 16.9ms\n",
      "image 91/111 C:\\Users\\mamat\\Documents\\Penelitian Vito\\CigDet-YOLO\\images\\val\\smoking_0484.jpg: 256x256 1 cigarette, 22.8ms\n",
      "image 92/111 C:\\Users\\mamat\\Documents\\Penelitian Vito\\CigDet-YOLO\\images\\val\\smoking_0486.jpg: 256x256 (no detections), 8.6ms\n",
      "image 93/111 C:\\Users\\mamat\\Documents\\Penelitian Vito\\CigDet-YOLO\\images\\val\\smoking_0490.jpg: 256x256 1 cigarette, 3.6ms\n",
      "image 94/111 C:\\Users\\mamat\\Documents\\Penelitian Vito\\CigDet-YOLO\\images\\val\\smoking_0496.jpg: 256x256 (no detections), 9.2ms\n",
      "image 95/111 C:\\Users\\mamat\\Documents\\Penelitian Vito\\CigDet-YOLO\\images\\val\\smoking_0506.jpg: 256x256 (no detections), 16.4ms\n",
      "image 96/111 C:\\Users\\mamat\\Documents\\Penelitian Vito\\CigDet-YOLO\\images\\val\\smoking_0511.jpg: 256x256 (no detections), 19.5ms\n",
      "image 97/111 C:\\Users\\mamat\\Documents\\Penelitian Vito\\CigDet-YOLO\\images\\val\\smoking_0515.jpg: 256x256 1 cigarette, 12.9ms\n",
      "image 98/111 C:\\Users\\mamat\\Documents\\Penelitian Vito\\CigDet-YOLO\\images\\val\\smoking_0521.jpg: 256x256 (no detections), 18.7ms\n",
      "image 99/111 C:\\Users\\mamat\\Documents\\Penelitian Vito\\CigDet-YOLO\\images\\val\\smoking_0522.jpg: 256x256 1 cigarette, 15.9ms\n",
      "image 100/111 C:\\Users\\mamat\\Documents\\Penelitian Vito\\CigDet-YOLO\\images\\val\\smoking_0527.jpg: 256x256 (no detections), 23.0ms\n",
      "image 101/111 C:\\Users\\mamat\\Documents\\Penelitian Vito\\CigDet-YOLO\\images\\val\\smoking_0528.jpg: 256x256 2 cigarettes, 14.8ms\n",
      "image 102/111 C:\\Users\\mamat\\Documents\\Penelitian Vito\\CigDet-YOLO\\images\\val\\smoking_0533.jpg: 256x256 1 cigarette, 5.6ms\n",
      "image 103/111 C:\\Users\\mamat\\Documents\\Penelitian Vito\\CigDet-YOLO\\images\\val\\smoking_0536.jpg: 256x256 1 cigarette, 15.0ms\n",
      "image 104/111 C:\\Users\\mamat\\Documents\\Penelitian Vito\\CigDet-YOLO\\images\\val\\smoking_0540.jpg: 256x256 (no detections), 12.7ms\n",
      "image 105/111 C:\\Users\\mamat\\Documents\\Penelitian Vito\\CigDet-YOLO\\images\\val\\smoking_0541.jpg: 256x256 1 cigarette, 10.3ms\n",
      "image 106/111 C:\\Users\\mamat\\Documents\\Penelitian Vito\\CigDet-YOLO\\images\\val\\smoking_0546.jpg: 256x256 1 cigarette, 14.5ms\n",
      "image 107/111 C:\\Users\\mamat\\Documents\\Penelitian Vito\\CigDet-YOLO\\images\\val\\smoking_0547.jpg: 256x256 2 cigarettes, 18.7ms\n",
      "image 108/111 C:\\Users\\mamat\\Documents\\Penelitian Vito\\CigDet-YOLO\\images\\val\\smoking_0551.jpg: 256x256 1 cigarette, 15.9ms\n",
      "image 109/111 C:\\Users\\mamat\\Documents\\Penelitian Vito\\CigDet-YOLO\\images\\val\\smoking_0553.jpg: 256x256 1 cigarette, 14.4ms\n",
      "image 110/111 C:\\Users\\mamat\\Documents\\Penelitian Vito\\CigDet-YOLO\\images\\val\\smoking_0555.jpg: 256x256 1 cigarette, 27.4ms\n",
      "image 111/111 C:\\Users\\mamat\\Documents\\Penelitian Vito\\CigDet-YOLO\\images\\val\\smoking_0559.jpg: 256x256 (no detections), 17.5ms\n",
      "Speed: 1.3ms preprocess, 16.0ms inference, 3.7ms postprocess per image at shape (1, 3, 256, 256)\n",
      "Results saved to \u001b[1mruns\\detect\\predict\u001b[0m\n"
     ]
    }
   ],
   "source": [
    "# Load trained model\n",
    "model = YOLO(\"runs/detect/train/weights/best.pt\")\n",
    "\n",
    "# Run prediction on test images folder\n",
    "results = model.predict(source=\"C:/Users/mamat/Documents/Penelitian Vito/CigDet-YOLO/images/val\", save=True, imgsz=250)\n"
   ]
  }
 ],
 "metadata": {
  "kernelspec": {
   "display_name": "ultralytics-env",
   "language": "python",
   "name": "python3"
  },
  "language_info": {
   "codemirror_mode": {
    "name": "ipython",
    "version": 3
   },
   "file_extension": ".py",
   "mimetype": "text/x-python",
   "name": "python",
   "nbconvert_exporter": "python",
   "pygments_lexer": "ipython3",
   "version": "3.11.11"
  }
 },
 "nbformat": 4,
 "nbformat_minor": 5
}
